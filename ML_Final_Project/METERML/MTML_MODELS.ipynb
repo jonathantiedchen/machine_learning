{
 "cells": [
  {
   "cell_type": "markdown",
   "metadata": {},
   "source": [
    "# Setup"
   ]
  },
  {
   "cell_type": "markdown",
   "metadata": {},
   "source": [
    "Run the follwing cell to pip install the necerssary packages specified in the requirements.txt file."
   ]
  },
  {
   "cell_type": "code",
   "execution_count": null,
   "metadata": {},
   "outputs": [],
   "source": [
    "pip install -r requirements.txt"
   ]
  },
  {
   "cell_type": "markdown",
   "metadata": {},
   "source": [
    "# to push/pull form ucloud enter following code in terminal\n",
    "git config --global user.name \"FIRST_NAME LAST_NAME\"\n",
    "git config --global user.email \"MY_NAME@example.com\"\n"
   ]
  },
  {
   "cell_type": "markdown",
   "metadata": {},
   "source": [
    "Importing the necessary packages"
   ]
  },
  {
   "cell_type": "code",
   "execution_count": 37,
   "metadata": {},
   "outputs": [],
   "source": [
    "import os\n",
    "import io\n",
    "import tensorflow as tf\n",
    "import numpy as np\n",
    "from azure.storage.blob import BlobServiceClient, ContainerClient\n",
    "from azure.core.exceptions import ResourceNotFoundError\n",
    "from PIL import Image\n",
    "import matplotlib.pyplot as plt\n",
    "import seaborn as sns\n",
    "import ast\n",
    "import time\n",
    "from keras.models import load_model\n",
    "import tempfile\n",
    "\n",
    "import pandas as pd\n",
    "from tensorflow.keras import layers, models\n",
    "import tensorflow_hub as hub\n",
    "from tensorflow.keras.optimizers import Adam\n",
    "from sklearn.model_selection import train_test_split\n",
    "from tensorflow.keras.callbacks import ModelCheckpoint, EarlyStopping\n",
    "from keras.applications.inception_v3 import InceptionV3\n",
    "from keras.applications.vgg16 import VGG16\n",
    "from keras.applications.vgg16 import preprocess_input\n",
    "from tensorflow.keras.applications import MobileNetV2\n",
    "from tensorflow.keras.layers import Input, Conv2D, MaxPooling2D, Dense, Flatten, Dropout, GlobalAveragePooling2D\n",
    "from tensorflow.keras.models import Model, Sequential\n",
    "from keras.utils import plot_model\n",
    "from sklearn.metrics import accuracy_score, f1_score, recall_score, precision_score, confusion_matrix\n",
    "from keras.callbacks import Callback, ReduceLROnPlateau, EarlyStopping, ModelCheckpoint"
   ]
  },
  {
   "cell_type": "markdown",
   "metadata": {},
   "source": [
    "### Connect to Azure"
   ]
  },
  {
   "cell_type": "code",
   "execution_count": 38,
   "metadata": {},
   "outputs": [],
   "source": [
    "#set up storage\n",
    "connection_string = \"DefaultEndpointsProtocol=https;AccountName=mlfinalexam5505462853;AccountKey=0c40lghglG5/GlNK9yujDQAgo38GKoS2I3DeC/g22hwAEIFANKpmC/TqOpRk4RCT1DbfNiHBFt72+AStB+PfUA==;EndpointSuffix=core.windows.net\"\n",
    "container_name = \"meterml\"\n",
    "\n",
    "#create client\n",
    "blob_service_client = BlobServiceClient.from_connection_string(connection_string)\n",
    "container_client = blob_service_client.get_container_client(container_name)"
   ]
  },
  {
   "cell_type": "markdown",
   "metadata": {},
   "source": [
    "### Load Image Paths and Labels"
   ]
  },
  {
   "cell_type": "code",
   "execution_count": 39,
   "metadata": {},
   "outputs": [],
   "source": [
    "#get filepaths\n",
    "df = pd.read_csv(\"FINAL_METER_ML_test.csv\")\n",
    "\n",
    "\n",
    "# convert each string in the DataFrame to a list\n",
    "df['Label'] = df['Label'].apply(ast.literal_eval)\n",
    "\n",
    "# convert each list in the DataFrame to a numpy array\n",
    "df['Label'] = df['Label'].apply(np.array)\n",
    "\n",
    "class_names=[\"CAFOs\",\"Landfills\",\"Mines\",\"Negative\",\"ProcessingPlants\",\"RefineriesAndTerminals\",\"WWTreatment\"]"
   ]
  },
  {
   "cell_type": "markdown",
   "metadata": {},
   "source": [
    "# Helper Functions \n",
    "\n",
    "- Training Accuracy and Loss Graphs: plot_history(history)\n",
    "- Predictions: print_predictions(inceptionv3_model, test_ds)\n",
    "- True and Predicted Classes: true_classes,predicted_classes = true_pred_classes(inceptionv3_model, test_ds)\n",
    "- Accuracy: accuracy_score(true_classes,predicted_classes)\n",
    "- F1 Score: f1_score(true_classes, predicted_classes, average='weighted')\n",
    "- Recall: recall = recall_score(true_classes, predicted_classes, average='weighted')\n",
    "- Precision: precision = precision_score(true_classes, predicted_classes, average='weighted')\n",
    "- Confusion MAtrix (as Array): conf_matrix = confusion_matrix(true_classes, predicted_classes)\n",
    "- Plot Confusion Matrix: print_conf_matrix(true_classes, predicted_classes,class_names)"
   ]
  },
  {
   "cell_type": "code",
   "execution_count": 40,
   "metadata": {},
   "outputs": [],
   "source": [
    "image_size=224\n",
    "channels=3\n",
    "autotune = tf.data.experimental.AUTOTUNE # Adapt preprocessing and prefetching dynamically\n",
    "\n",
    "def data_split(df):\n",
    "    \"\"\"Splits and returns the dataset into training, validation, and test\"\"\"\n",
    "    X_temp, X_test, y_temp, y_test = train_test_split(df['Image_Folder'], df['Label'], test_size=0.15, random_state=42)\n",
    "    X_train, X_val, y_train, y_val = train_test_split(X_temp, y_temp, test_size=0.176, random_state=42)\n",
    "    #convert labels to array\n",
    "    y_train = np.array(y_train).tolist()\n",
    "    y_val = np.array(y_val).tolist()\n",
    "    y_test = np.array(y_test).tolist()\n",
    "    #print number of observations per datasets\n",
    "    print(\"Nr. Training:\",len(X_train),\"Nr. Validation:\",len(X_val),\"Nr. Test:\",len(X_test))\n",
    "    \n",
    "    return X_train, X_val, X_test, y_train, y_val, y_test\n",
    "\n",
    "\n",
    "def load_image(path):\n",
    "    \"\"\"Load an image from Azure Blob Storage.\"\"\"\n",
    "    blob_client = container_client.get_blob_client(path)\n",
    "    blob_data = blob_client.download_blob().readall()  # Directly read all bytes\n",
    "    \n",
    "    return io.BytesIO(blob_data)\n",
    "\n",
    "\n",
    "def load_and_preprocess_image(path):\n",
    "    \"\"\"Loads an image, decodes it to grayscale, resizes, and normalizes it.\"\"\"\n",
    "    # Load image\n",
    "    image_file = load_image(path.numpy().decode('utf-8'))\n",
    "    # Decode the image to grayscale\n",
    "    image_tensor = tf.io.decode_image(image_file.getvalue(), channels=channels)\n",
    "    # Resize the image\n",
    "    image_resized = tf.image.resize(image_tensor, [image_size, image_size])\n",
    "    # Normalize the image data\n",
    "    image_normalized = image_resized / 255.0\n",
    "    return image_normalized\n",
    "\n",
    "\n",
    "def process_tensor(path, label):\n",
    "    \"\"\"Function to load an image from blob storage, decode, resize, and normalize it.\"\"\"\n",
    "    image_normalized = tf.py_function(load_and_preprocess_image, [path], tf.float32)\n",
    "    # Ensure the shape is set correctly for grayscale\n",
    "    image_normalized.set_shape([image_size, image_size, channels])\n",
    "    return image_normalized, label\n",
    "\n",
    "\n",
    "def create_dataset(filenames, labels, is_training=True):\n",
    "    \"\"\"Creates a TensorFlow dataset from filenames and labels.\"\"\"\n",
    "    dataset = tf.data.Dataset.from_tensor_slices((filenames, labels))\n",
    "    dataset = dataset.map(process_tensor, num_parallel_calls=tf.data.AUTOTUNE)\n",
    "    #shuffle the data when it is the training dataset\n",
    "    if is_training:\n",
    "        dataset = dataset.cache()\n",
    "        dataset = dataset.shuffle(buffer_size=1024)\n",
    "    #creates batches    \n",
    "    dataset = dataset.batch(256)\n",
    "    dataset = dataset.prefetch(tf.data.AUTOTUNE)\n",
    "\n",
    "    return dataset\n",
    "\n",
    "\n",
    "def create_all_datasets(X_train, X_val, X_test, y_train, y_val, y_test ):\n",
    "    \"\"\"Creates train, test, and val datasets by calling the create_dataset function each.\"\"\"\n",
    "    train_ds = create_dataset(X_train, y_train)\n",
    "    test_ds = create_dataset(X_test, y_test, False)\n",
    "    val_ds = create_dataset(X_val, y_val, False)\n",
    "    \n",
    "    return train_ds, test_ds, val_ds\n",
    "\n",
    "\n",
    "def print_dataset(dataset):\n",
    "    \"\"\"Print the plain dataset.\"\"\"\n",
    "    for images, labels in dataset.take(1):  # Here, take(1) takes the first batch\n",
    "        print(\"Images:\", images.numpy())  # Convert tensor to numpy array and print\n",
    "        print(\"Labels:\", labels.numpy())  # Convert tensor to numpy array and print\n",
    "\n",
    "\n",
    "def plot_history(model):\n",
    "    \"\"\"Plots the accuracy and loss of the inputted model.\"\"\"\n",
    "    # summarize history for accuracy\n",
    "    plt.plot(model.history['accuracy'])\n",
    "    plt.plot(model.history['val_accuracy'])\n",
    "    plt.title('model accuracy')\n",
    "    plt.ylabel('accuracy')\n",
    "    plt.xlabel('epoch')\n",
    "    plt.legend(['Train', 'Validation'], loc='upper left')\n",
    "    plt.show()\n",
    "    \n",
    "    # summarize history for loss\n",
    "    plt.plot(model.history['loss'])\n",
    "    plt.plot(model.history['val_loss'])\n",
    "    plt.title('model loss')\n",
    "    plt.ylabel('loss')\n",
    "    plt.xlabel('epoch')\n",
    "    plt.legend(['Train', 'Validation'], loc='upper left')\n",
    "    plt.show()\n",
    "\n",
    "\n",
    "def print_predictions(model, ds):\n",
    "    \"\"\"Predictions based on test dataset.\"\"\"\n",
    "    #predict\n",
    "    for images, labels in ds:\n",
    "        predictions = model.predict(images)  # Only pass image data\n",
    "        classes = predictions.argmax(axis=-1) #selects biggest value as prediction\n",
    "\n",
    "        for pred, classe, label in zip(predictions,classes, labels):\n",
    "            print(\"Prediction:\", pred,\"Pred. Class: \",classe, \"Actual Label:\", label.numpy())# Print the first prediction\n",
    "        break\n",
    "    \n",
    "        \n",
    "def plot_model(model): \n",
    "    \"\"\"Plot model with predefined arguments.\"\"\"\n",
    "    plot_model(model, \n",
    "            to_file='vgg.png',\n",
    "            show_shapes=True,\n",
    "            show_dtype=True,\n",
    "            show_layer_names=True,\n",
    "            show_layer_activations=True,\n",
    "            show_trainable=False)\n",
    "    \n",
    "\n",
    "def evaluate_model(model, test_ds):\n",
    "    result = model.evaluate(test_ds)\n",
    "    # Assuming accuracy was the second metric (index 1), extract the accuracy.\n",
    "    test_accuracy = result[1] * 100  # Convert to percentage\n",
    "    print(f\"Test Accuracy: {test_accuracy:.2f}%\")\n",
    "    return test_accuracy\n",
    "\n",
    "\n",
    "def true_pred_classes(model, dataset): \n",
    "    \"\"\"\n",
    "    Evaluates the given model using the dataset.\n",
    "    Returns: accuracy, f1, recall, precision, confusion matrix\n",
    "    \"\"\"\n",
    "    # Collect all labels and predictions\n",
    "    true_classes = []\n",
    "    predicted_classes = []\n",
    "\n",
    "    # Iterate over the dataset\n",
    "    for images, labels in dataset:\n",
    "        # Predict batch\n",
    "        preds = model.predict(images)\n",
    "        preds = np.argmax(preds, axis=1)\n",
    "        true = labels.numpy()  # Assuming labels are already integer-encoded\n",
    "\n",
    "        # Append to lists\n",
    "        true_classes.extend(true)\n",
    "        predicted_classes.extend(preds)\n",
    "    return true_classes,predicted_classes\n",
    "\n",
    "\n",
    "def print_conf_matrix(true_classes, predicted_classes, class_names):\n",
    "    \"\"\"\n",
    "    Print confusion matrix.\n",
    "    \"\"\"\n",
    "    conf_matrix = confusion_matrix(true_classes, predicted_classes)\n",
    "    df_cm = pd.DataFrame(\n",
    "        conf_matrix, index=class_names, columns=class_names,\n",
    "    )\n",
    "    fig = plt.figure(figsize=(10,7))\n",
    "    heatmap = sns.heatmap(df_cm, annot=True, fmt=\"d\", cmap='Blues')\n",
    "\n",
    "    # Set aesthetics for better readability\n",
    "    heatmap.yaxis.set_ticklabels(heatmap.yaxis.get_ticklabels(), rotation=0, ha='right', fontsize=14)\n",
    "    heatmap.xaxis.set_ticklabels(heatmap.xaxis.get_ticklabels(), rotation=45, ha='right', fontsize=14)\n",
    "\n",
    "    plt.ylabel('True label')\n",
    "    plt.xlabel('Predicted label')\n",
    "    plt.title('Confusion Matrix')\n",
    "    plt.show()\n",
    "\n",
    "def load_model_from_azure(model):\n",
    "    # Download the blob to a local file\n",
    "    local_model_path = f\"models/{model}.keras\"\n",
    "    blob_client = blob_service_client.get_blob_client(container='meterml', blob=f'models/{model}.keras')\n",
    "    # Download the blob to a temporary file\n",
    "    # Download the blob to a temporary file\n",
    "    with tempfile.NamedTemporaryFile(delete=False, suffix='.keras') as temp_file:\n",
    "        temp_file.write(blob_client.download_blob().readall())\n",
    "        temp_file_path = temp_file.name\n",
    "\n",
    "    # Load the model using TensorFlow Keras\n",
    "    try:\n",
    "        model = tf.keras.models.load_model(temp_file_path)\n",
    "    finally:\n",
    "        # Optionally, delete the temporary file\n",
    "        os.remove(temp_file_path)\n",
    "\n",
    "    print(f\"Model loaded. Enter model.summary(), to print a model summary.\")\n",
    "    return model\n",
    "\n"
   ]
  },
  {
   "cell_type": "markdown",
   "metadata": {},
   "source": [
    "# Create Datasets"
   ]
  },
  {
   "cell_type": "code",
   "execution_count": 41,
   "metadata": {},
   "outputs": [
    {
     "name": "stdout",
     "output_type": "stream",
     "text": [
      "Nr. Training: 692 Nr. Validation: 149 Nr. Test: 149\n"
     ]
    }
   ],
   "source": [
    "X_train, X_val, X_test, y_train, y_val, y_test = data_split(df)\n",
    "    \n",
    "train_ds, test_ds, val_ds = create_all_datasets(X_train, X_val, X_test, y_train, y_val, y_test)"
   ]
  },
  {
   "cell_type": "markdown",
   "metadata": {},
   "source": [
    "# Models"
   ]
  },
  {
   "cell_type": "markdown",
   "metadata": {},
   "source": [
    "## ResNet50: \n",
    "- https://datagen.tech/guides/computer-vision/resnet-50/\n",
    "- https://medium.com/@bravinwasike18/building-a-deep-learning-model-with-keras-and-resnet-50-9dd6f4eb3351\n",
    "- https://medium.com/@ozgunhaznedar/image-classification-on-satellite-images-with-deep-learning-baa9813dde4e\n",
    "- https://wandb.ai/mostafaibrahim17/ml-articles/reports/The-Basics-of-ResNet50---Vmlldzo2NDkwNDE2#step-4:-building-resnet-50-model"
   ]
  },
  {
   "cell_type": "markdown",
   "metadata": {},
   "source": [
    "### Transfer Learning"
   ]
  },
  {
   "cell_type": "code",
   "execution_count": 45,
   "metadata": {},
   "outputs": [
    {
     "name": "stdout",
     "output_type": "stream",
     "text": [
      "Epoch 1/5\n"
     ]
    },
    {
     "name": "stderr",
     "output_type": "stream",
     "text": [
      "2024-05-13 23:45:37.600149: I tensorflow/core/kernels/data/shuffle_dataset_op.cc:450] ShuffleDatasetV3:80: Filling up shuffle buffer (this may take a while): 158 of 1024\n",
      "2024-05-13 23:45:47.622470: I tensorflow/core/kernels/data/shuffle_dataset_op.cc:450] ShuffleDatasetV3:80: Filling up shuffle buffer (this may take a while): 376 of 1024\n",
      "2024-05-13 23:45:59.475237: I tensorflow/core/kernels/data/shuffle_dataset_op.cc:480] Shuffle buffer filled.\n"
     ]
    },
    {
     "name": "stdout",
     "output_type": "stream",
     "text": [
      "\u001b[1m3/3\u001b[0m \u001b[32m━━━━━━━━━━━━━━━━━━━━\u001b[0m\u001b[37m\u001b[0m \u001b[1m53s\u001b[0m 5s/step - accuracy: 0.1922 - loss: 15.1724 - val_accuracy: 0.0604 - val_loss: 30.5166 - learning_rate: 0.0010\n",
      "Epoch 2/5\n",
      "\u001b[1m3/3\u001b[0m \u001b[32m━━━━━━━━━━━━━━━━━━━━\u001b[0m\u001b[37m\u001b[0m \u001b[1m12s\u001b[0m 5s/step - accuracy: 0.2467 - loss: 27.7884 - val_accuracy: 0.0738 - val_loss: 34.7428 - learning_rate: 0.0010\n",
      "Epoch 3/5\n",
      "\u001b[1m3/3\u001b[0m \u001b[32m━━━━━━━━━━━━━━━━━━━━\u001b[0m\u001b[37m\u001b[0m \u001b[1m12s\u001b[0m 5s/step - accuracy: 0.1936 - loss: 26.7489 - val_accuracy: 0.3356 - val_loss: 20.2314 - learning_rate: 0.0010\n",
      "Epoch 4/5\n",
      "\u001b[1m3/3\u001b[0m \u001b[32m━━━━━━━━━━━━━━━━━━━━\u001b[0m\u001b[37m\u001b[0m \u001b[1m13s\u001b[0m 5s/step - accuracy: 0.3518 - loss: 14.4998 - val_accuracy: 0.4094 - val_loss: 14.4244 - learning_rate: 0.0010\n",
      "Epoch 5/5\n",
      "\u001b[1m3/3\u001b[0m \u001b[32m━━━━━━━━━━━━━━━━━━━━\u001b[0m\u001b[37m\u001b[0m \u001b[1m13s\u001b[0m 5s/step - accuracy: 0.2851 - loss: 10.6786 - val_accuracy: 0.0940 - val_loss: 8.2727 - learning_rate: 0.0010\n",
      "Training time in seconds: 8547.62507033348\n"
     ]
    }
   ],
   "source": [
    "#set variables\n",
    "train_epochs = 30\n",
    "tune_epochs = 10\n",
    "total_epochs = train_epochs + tune_epochs\n",
    "batch_size = 128\n",
    "\n",
    "# import resnet model for transfer learning\n",
    "rn50_base = tf.keras.applications.ResNet50(\n",
    "    include_top = False,\n",
    "    weights = \"imagenet\",\n",
    "    input_shape=(224,224,3)\n",
    "    )\n",
    "\n",
    "# Freeze layers pf basemodel, so the pre-trained weights are fixed\n",
    "for each_layer in rn50_base.layers:\n",
    "        each_layer.trainable=False\n",
    "\n",
    "# create sequential model\n",
    "resnet_model = Sequential()\n",
    "\n",
    "# Add output layers for finetuning\n",
    "resnet_model.add(rn50_base)\n",
    "resnet_model.add(Flatten()) #use flatten instead of GlobalAveragePooling2D as it may yield better results when enough data\n",
    "resnet_model.add(Dense(512, activation='relu'))\n",
    "resnet_model.add(Dense(7, activation='softmax'))\n",
    "\n",
    "# Compile model\n",
    "resnet_model.compile(optimizer= tf.keras.optimizers.Adam(),\n",
    "                    loss= tf.keras.losses.CategoricalCrossentropy(), \n",
    "                    metrics = ['accuracy'])\n",
    "\n",
    "#initializt time\n",
    "time.time()\n",
    "\n",
    "# Train model \n",
    "history = resnet_model.fit(train_ds, \n",
    "                        validation_data = val_ds, \n",
    "                        epochs = 5, \n",
    "                        batch_size=batch_size, \n",
    "                        callbacks = [ReduceLROnPlateau(patience=5), EarlyStopping(patience=10)])\n",
    "\n",
    "#print time in seconds\n",
    "print(\"Training time in seconds:\", time.time()-t0)\n",
    "\n",
    "#save model\n",
    "resnet_model.save(\"resnet_model.keras\")\n",
    "\n",
    "# Plot model information\n",
    "#plot_history(history)\n",
    "# Save the model\n",
    "# Get container\n",
    "\n",
    "def upload_model_to_azure(model):\n",
    "    blob_client = blob_service_client.get_blob_client(container='meterml', blob=f'models/{model}.keras')\n",
    "    # Save file to blob\n",
    "    with open(f'{model}.keras', 'rb') as data:\n",
    "        blob_client.upload_blob(data)\n",
    "    print(\"Model successfully stored in Azure.\")"
   ]
  },
  {
   "cell_type": "code",
   "execution_count": 74,
   "metadata": {},
   "outputs": [
    {
     "name": "stdout",
     "output_type": "stream",
     "text": [
      "Model successfully stored in Azure.\n"
     ]
    }
   ],
   "source": [
    "def upload_model_to_azure(model):\n",
    "    model.save(f\"{model}.keras\")\n",
    "    blob_client = blob_service_client.get_blob_client(container='meterml', blob=f'models/{model}.keras')\n",
    "    # Save file to blob\n",
    "    with open(f'{model}.keras', 'rb') as data:\n",
    "        blob_client.upload_blob(data)\n",
    "    print(\"Model successfully stored in Azure.\")\n",
    "\n",
    "upload_model_to_azure(resnet_model)"
   ]
  },
  {
   "cell_type": "code",
   "execution_count": 76,
   "metadata": {},
   "outputs": [
    {
     "name": "stdout",
     "output_type": "stream",
     "text": [
      "Error: The model 'resnet_model.keras' was not found in Azure Blob Storage.\n"
     ]
    }
   ],
   "source": [
    "modeln = load_model_from_azure(\"resnet_model.keras\")"
   ]
  },
  {
   "cell_type": "code",
   "execution_count": 68,
   "metadata": {},
   "outputs": [
    {
     "name": "stdout",
     "output_type": "stream",
     "text": [
      "Model loaded. Enter model.summary() to print a model summary.\n"
     ]
    }
   ],
   "source": [
    "from azure.core.exceptions import ResourceNotFoundError\n",
    "\n",
    "def load_model_from_azure(model_name):\n",
    "    # Construct the blob path\n",
    "    blob_path = f'models/{model_name}.keras'\n",
    "    blob_client = blob_service_client.get_blob_client(container='meterml', blob=blob_path)\n",
    "    \n",
    "    try:\n",
    "        # Download the blob to a temporary file\n",
    "        with tempfile.NamedTemporaryFile(delete=False, suffix='.keras') as temp_file:\n",
    "            temp_file.write(blob_client.download_blob().readall())\n",
    "            temp_file_path = temp_file.name\n",
    "\n",
    "        # Load the model using TensorFlow Keras\n",
    "        model = tf.keras.models.load_model(temp_file_path)\n",
    "        \n",
    "    except ResourceNotFoundError:\n",
    "        print(f\"Error: The model '{model_name}' was not found in Azure Blob Storage.\")\n",
    "        return None\n",
    "    except Exception as e:\n",
    "        print(f\"An error occurred while loading the model: {e}\")\n",
    "        return None\n",
    "    finally:\n",
    "        if 'temp_file_path' in locals():\n",
    "            # Optionally, delete the temporary file\n",
    "            os.remove(temp_file_path)\n",
    "\n",
    "    print(\"Model loaded. Enter model.summary() to print a model summary.\")\n",
    "    return model\n",
    "\n",
    "model_test = load_model_from_azure(\"resnet_model\")"
   ]
  },
  {
   "cell_type": "code",
   "execution_count": 69,
   "metadata": {},
   "outputs": [
    {
     "data": {
      "text/html": [
       "<pre style=\"white-space:pre;overflow-x:auto;line-height:normal;font-family:Menlo,'DejaVu Sans Mono',consolas,'Courier New',monospace\"><span style=\"font-weight: bold\">Model: \"sequential_11\"</span>\n",
       "</pre>\n"
      ],
      "text/plain": [
       "\u001b[1mModel: \"sequential_11\"\u001b[0m\n"
      ]
     },
     "metadata": {},
     "output_type": "display_data"
    },
    {
     "data": {
      "text/html": [
       "<pre style=\"white-space:pre;overflow-x:auto;line-height:normal;font-family:Menlo,'DejaVu Sans Mono',consolas,'Courier New',monospace\">┏━━━━━━━━━━━━━━━━━━━━━━━━━━━━━━━━━┳━━━━━━━━━━━━━━━━━━━━━━━━┳━━━━━━━━━━━━━━━┓\n",
       "┃<span style=\"font-weight: bold\"> Layer (type)                    </span>┃<span style=\"font-weight: bold\"> Output Shape           </span>┃<span style=\"font-weight: bold\">       Param # </span>┃\n",
       "┡━━━━━━━━━━━━━━━━━━━━━━━━━━━━━━━━━╇━━━━━━━━━━━━━━━━━━━━━━━━╇━━━━━━━━━━━━━━━┩\n",
       "│ resnet50 (<span style=\"color: #0087ff; text-decoration-color: #0087ff\">Functional</span>)           │ (<span style=\"color: #00d7ff; text-decoration-color: #00d7ff\">None</span>, <span style=\"color: #00af00; text-decoration-color: #00af00\">7</span>, <span style=\"color: #00af00; text-decoration-color: #00af00\">7</span>, <span style=\"color: #00af00; text-decoration-color: #00af00\">2048</span>)     │    <span style=\"color: #00af00; text-decoration-color: #00af00\">23,587,712</span> │\n",
       "├─────────────────────────────────┼────────────────────────┼───────────────┤\n",
       "│ flatten_11 (<span style=\"color: #0087ff; text-decoration-color: #0087ff\">Flatten</span>)            │ (<span style=\"color: #00d7ff; text-decoration-color: #00d7ff\">None</span>, <span style=\"color: #00af00; text-decoration-color: #00af00\">100352</span>)         │             <span style=\"color: #00af00; text-decoration-color: #00af00\">0</span> │\n",
       "├─────────────────────────────────┼────────────────────────┼───────────────┤\n",
       "│ dense_38 (<span style=\"color: #0087ff; text-decoration-color: #0087ff\">Dense</span>)                │ (<span style=\"color: #00d7ff; text-decoration-color: #00d7ff\">None</span>, <span style=\"color: #00af00; text-decoration-color: #00af00\">512</span>)            │    <span style=\"color: #00af00; text-decoration-color: #00af00\">51,380,736</span> │\n",
       "├─────────────────────────────────┼────────────────────────┼───────────────┤\n",
       "│ dense_39 (<span style=\"color: #0087ff; text-decoration-color: #0087ff\">Dense</span>)                │ (<span style=\"color: #00d7ff; text-decoration-color: #00d7ff\">None</span>, <span style=\"color: #00af00; text-decoration-color: #00af00\">7</span>)              │         <span style=\"color: #00af00; text-decoration-color: #00af00\">3,591</span> │\n",
       "└─────────────────────────────────┴────────────────────────┴───────────────┘\n",
       "</pre>\n"
      ],
      "text/plain": [
       "┏━━━━━━━━━━━━━━━━━━━━━━━━━━━━━━━━━┳━━━━━━━━━━━━━━━━━━━━━━━━┳━━━━━━━━━━━━━━━┓\n",
       "┃\u001b[1m \u001b[0m\u001b[1mLayer (type)                   \u001b[0m\u001b[1m \u001b[0m┃\u001b[1m \u001b[0m\u001b[1mOutput Shape          \u001b[0m\u001b[1m \u001b[0m┃\u001b[1m \u001b[0m\u001b[1m      Param #\u001b[0m\u001b[1m \u001b[0m┃\n",
       "┡━━━━━━━━━━━━━━━━━━━━━━━━━━━━━━━━━╇━━━━━━━━━━━━━━━━━━━━━━━━╇━━━━━━━━━━━━━━━┩\n",
       "│ resnet50 (\u001b[38;5;33mFunctional\u001b[0m)           │ (\u001b[38;5;45mNone\u001b[0m, \u001b[38;5;34m7\u001b[0m, \u001b[38;5;34m7\u001b[0m, \u001b[38;5;34m2048\u001b[0m)     │    \u001b[38;5;34m23,587,712\u001b[0m │\n",
       "├─────────────────────────────────┼────────────────────────┼───────────────┤\n",
       "│ flatten_11 (\u001b[38;5;33mFlatten\u001b[0m)            │ (\u001b[38;5;45mNone\u001b[0m, \u001b[38;5;34m100352\u001b[0m)         │             \u001b[38;5;34m0\u001b[0m │\n",
       "├─────────────────────────────────┼────────────────────────┼───────────────┤\n",
       "│ dense_38 (\u001b[38;5;33mDense\u001b[0m)                │ (\u001b[38;5;45mNone\u001b[0m, \u001b[38;5;34m512\u001b[0m)            │    \u001b[38;5;34m51,380,736\u001b[0m │\n",
       "├─────────────────────────────────┼────────────────────────┼───────────────┤\n",
       "│ dense_39 (\u001b[38;5;33mDense\u001b[0m)                │ (\u001b[38;5;45mNone\u001b[0m, \u001b[38;5;34m7\u001b[0m)              │         \u001b[38;5;34m3,591\u001b[0m │\n",
       "└─────────────────────────────────┴────────────────────────┴───────────────┘\n"
      ]
     },
     "metadata": {},
     "output_type": "display_data"
    },
    {
     "data": {
      "text/html": [
       "<pre style=\"white-space:pre;overflow-x:auto;line-height:normal;font-family:Menlo,'DejaVu Sans Mono',consolas,'Courier New',monospace\"><span style=\"font-weight: bold\"> Total params: </span><span style=\"color: #00af00; text-decoration-color: #00af00\">177,740,695</span> (678.03 MB)\n",
       "</pre>\n"
      ],
      "text/plain": [
       "\u001b[1m Total params: \u001b[0m\u001b[38;5;34m177,740,695\u001b[0m (678.03 MB)\n"
      ]
     },
     "metadata": {},
     "output_type": "display_data"
    },
    {
     "data": {
      "text/html": [
       "<pre style=\"white-space:pre;overflow-x:auto;line-height:normal;font-family:Menlo,'DejaVu Sans Mono',consolas,'Courier New',monospace\"><span style=\"font-weight: bold\"> Trainable params: </span><span style=\"color: #00af00; text-decoration-color: #00af00\">51,384,327</span> (196.02 MB)\n",
       "</pre>\n"
      ],
      "text/plain": [
       "\u001b[1m Trainable params: \u001b[0m\u001b[38;5;34m51,384,327\u001b[0m (196.02 MB)\n"
      ]
     },
     "metadata": {},
     "output_type": "display_data"
    },
    {
     "data": {
      "text/html": [
       "<pre style=\"white-space:pre;overflow-x:auto;line-height:normal;font-family:Menlo,'DejaVu Sans Mono',consolas,'Courier New',monospace\"><span style=\"font-weight: bold\"> Non-trainable params: </span><span style=\"color: #00af00; text-decoration-color: #00af00\">23,587,712</span> (89.98 MB)\n",
       "</pre>\n"
      ],
      "text/plain": [
       "\u001b[1m Non-trainable params: \u001b[0m\u001b[38;5;34m23,587,712\u001b[0m (89.98 MB)\n"
      ]
     },
     "metadata": {},
     "output_type": "display_data"
    },
    {
     "data": {
      "text/html": [
       "<pre style=\"white-space:pre;overflow-x:auto;line-height:normal;font-family:Menlo,'DejaVu Sans Mono',consolas,'Courier New',monospace\"><span style=\"font-weight: bold\"> Optimizer params: </span><span style=\"color: #00af00; text-decoration-color: #00af00\">102,768,656</span> (392.03 MB)\n",
       "</pre>\n"
      ],
      "text/plain": [
       "\u001b[1m Optimizer params: \u001b[0m\u001b[38;5;34m102,768,656\u001b[0m (392.03 MB)\n"
      ]
     },
     "metadata": {},
     "output_type": "display_data"
    }
   ],
   "source": [
    "model_test.summary()"
   ]
  },
  {
   "cell_type": "markdown",
   "metadata": {},
   "source": [
    "### Fine Tuning"
   ]
  },
  {
   "cell_type": "code",
   "execution_count": null,
   "metadata": {},
   "outputs": [],
   "source": [
    "#unfreeze last convolution layer for fine tuning\n",
    "for each_layer in rn50_base.layers:\n",
    "        each_layer.trainable=False\n",
    "for layer in [l for l in rn50_base.layers if 'conv5' in l.name]:\n",
    "   layer.trainable = True\n",
    "   \n",
    "for i, layer in enumerate(rn50_base.layers):\n",
    "    print(i, layer.name, \"-\", layer.trainable)"
   ]
  },
  {
   "cell_type": "code",
   "execution_count": null,
   "metadata": {},
   "outputs": [],
   "source": [
    "#compile the model with smaller learning rate\n",
    "resnet_model.compile(optimizer = tf.keras.optimizers.Adam(learning_rate = 0.0001),\n",
    "                    loss = tf.keras.losses.CategoricalCrossentropy(), \n",
    "                    metrics=['accuracy'])\n",
    "\n",
    "#initialize timing\n",
    "t0 = time.time()\n",
    "\n",
    "# Train model \n",
    "history = resnet_model.fit(train_ds, \n",
    "                        validation_data = val_ds, \n",
    "                        epochs=total_epochs, \n",
    "                        batch_size=batch_size, \n",
    "                        callbacks = [ReduceLROnPlateau(patience=5), EarlyStopping(patience=10)])\n",
    "\n",
    "print(\"Training time in seconds:\", time.time()-t0)\n",
    "\n",
    "#save trained model\n",
    "resnet_model.save(\"resnet_tf_model.keras\")\n",
    "\n",
    "# Plot training plots\n",
    "plot_history(history)"
   ]
  },
  {
   "cell_type": "markdown",
   "metadata": {},
   "source": [
    "## Self-trained VGG16\n",
    "Source: https://medium.com/@siddheshb008/vgg-net-architecture-explained-71179310050f"
   ]
  },
  {
   "cell_type": "code",
   "execution_count": null,
   "metadata": {},
   "outputs": [],
   "source": [
    "#Set Variables\n",
    "epochs = 50\n",
    "batch_size = 128\n",
    "\n",
    "# Define Model\n",
    "_input = Input((224,224,3)) \n",
    "\n",
    "conv1  = Conv2D(filters=64, kernel_size=(3,3), padding=\"same\", activation=\"relu\")(_input)\n",
    "conv2  = Conv2D(filters=64, kernel_size=(3,3), padding=\"same\", activation=\"relu\")(conv1)\n",
    "pool1  = MaxPooling2D((2, 2))(conv2)\n",
    "\n",
    "conv3  = Conv2D(filters=128, kernel_size=(3,3), padding=\"same\", activation=\"relu\")(pool1)\n",
    "conv4  = Conv2D(filters=128, kernel_size=(3,3), padding=\"same\", activation=\"relu\")(conv3)\n",
    "pool2  = MaxPooling2D((2, 2))(conv4)\n",
    "\n",
    "conv5  = Conv2D(filters=256, kernel_size=(3,3), padding=\"same\", activation=\"relu\")(pool2)\n",
    "conv6  = Conv2D(filters=256, kernel_size=(3,3), padding=\"same\", activation=\"relu\")(conv5)\n",
    "conv7  = Conv2D(filters=256, kernel_size=(3,3), padding=\"same\", activation=\"relu\")(conv6)\n",
    "pool3  = MaxPooling2D((2, 2))(conv7)\n",
    "\n",
    "conv8  = Conv2D(filters=512, kernel_size=(3,3), padding=\"same\", activation=\"relu\")(pool3)\n",
    "conv9  = Conv2D(filters=512, kernel_size=(3,3), padding=\"same\", activation=\"relu\")(conv8)\n",
    "conv10 = Conv2D(filters=512, kernel_size=(3,3), padding=\"same\", activation=\"relu\")(conv9)\n",
    "pool4  = MaxPooling2D((2, 2))(conv10)\n",
    "\n",
    "conv11 = Conv2D(filters=512, kernel_size=(3,3), padding=\"same\", activation=\"relu\")(pool4)\n",
    "conv12 = Conv2D(filters=512, kernel_size=(3,3), padding=\"same\", activation=\"relu\")(conv11)\n",
    "conv13 = Conv2D(filters=512, kernel_size=(3,3), padding=\"same\", activation=\"relu\")(conv12)\n",
    "pool5  = MaxPooling2D((2, 2))(conv13)\n",
    "\n",
    "flat   = Flatten()(pool5)\n",
    "dense1 = Dense(4096, activation=\"relu\")(flat)\n",
    "dense2 = Dense(4096, activation=\"relu\")(dense1)\n",
    "output = Dense(7, activation=\"softmax\")(dense2) #adapted number of outputs and outputfunction\n",
    "\n",
    "vgg16_model  = Model(inputs=_input, outputs=output)\n",
    "\n",
    "\n",
    "#compile the model\n",
    "vgg16_model.compile(optimizer=tf.keras.optimizers.Adam(),\n",
    "              loss=tf.keras.losses.CategoricalCrossentropy(),\n",
    "              metrics=['accuracy'])\n",
    "\n",
    "##provide a model summary\n",
    "vgg16_model.summary()\n",
    "\n",
    "#initialize timing\n",
    "time.time()\n",
    "\n",
    "#fit the model\n",
    "vgg16_model.fit(\n",
    "    train_ds,\n",
    "    validation_data = val_ds,\n",
    "    epochs=epochs,\n",
    "    batch_size=batch_size,\n",
    "    callbacks = [ReduceLROnPlateau(patience=5), EarlyStopping(patience=10)])\n",
    "\n",
    "print(\"Training time in seconds:\", time.time()-t0)\n",
    "\n",
    "vgg16_model.save(\"vgg16_model.keras\")\n",
    "\n",
    "plot_history(vgg16_model)\n"
   ]
  },
  {
   "cell_type": "markdown",
   "metadata": {},
   "source": [
    "## Alexnet New"
   ]
  },
  {
   "cell_type": "code",
   "execution_count": null,
   "metadata": {},
   "outputs": [],
   "source": [
    "IMG_SIZE = 224\n",
    "CHANNELS = 3\n",
    "\n",
    "alexnet = Sequential()\n",
    "\n",
    "alexnet.add(Conv2D(96, kernel_size=(11,11), strides= 4,\n",
    "                        padding= 'valid', activation= 'relu',\n",
    "                        input_shape= (224,224,3),\n",
    "                        kernel_initializer= 'he_normal'))\n",
    "\n",
    "alexnet.add(MaxPooling2D(pool_size=(3,3), strides= (2,2),\n",
    "                              padding= 'valid', data_format= None))\n",
    "\n",
    "alexnet.add(Conv2D(256, kernel_size=(5,5), strides= 1,\n",
    "                        padding= 'same', activation= 'relu',\n",
    "                        kernel_initializer= 'he_normal'))\n",
    "                        \n",
    "alexnet.add(MaxPooling2D(pool_size=(3,3), strides= (2,2),\n",
    "                              padding= 'valid', data_format= None)) \n",
    "\n",
    "alexnet.add(Conv2D(384, kernel_size=(3,3), strides= 1,\n",
    "                        padding= 'same', activation= 'relu',\n",
    "                        kernel_initializer= 'he_normal'))\n",
    "\n",
    "alexnet.add(Conv2D(384, kernel_size=(3,3), strides= 1,\n",
    "                        padding= 'same', activation= 'relu',\n",
    "                        kernel_initializer= 'he_normal'))\n",
    "\n",
    "alexnet.add(Conv2D(256, kernel_size=(3,3), strides= 1,\n",
    "                        padding= 'same', activation= 'relu',\n",
    "                        kernel_initializer= 'he_normal'))\n",
    "\n",
    "alexnet.add(MaxPooling2D(pool_size=(3,3), strides= (2,2),\n",
    "                        padding= 'valid', data_format= None))\n",
    "\n",
    "alexnet.add(Flatten())\n",
    "alexnet.add(Dense(4096, activation= 'relu'))\n",
    "alexnet.add(Dense(4096, activation= 'relu'))\n",
    "alexnet.add(Dense(1000, activation= 'relu'))\n",
    "\n",
    "alexnet.add(Dense(7, activation= 'softmax'))\n",
    "\n",
    "# Compile the model:\n",
    "alexnet.compile(optimizer=tf.keras.optimizers.Adam(learning_rate=0.001),\n",
    "                loss=tf.keras.losses.CategoricalCrossentropy(),\n",
    "                metrics=['accuracy'])\n",
    "\n",
    "#initialize timing\n",
    "time.time()\n",
    "\n",
    "# Fit model and save history for further analysis:\n",
    "history = alexnet.fit(train_ds,\n",
    "                      validation_data = val_ds, \n",
    "                      epochs=30,\n",
    "                      batch_size=128,\n",
    "                      callbacks=[ReduceLROnPlateau(patience=5), tf.keras.callbacks.EarlyStopping(patience=5)])\n",
    "\n",
    "print(\"Training time in seconds:\", time.time()-t0)\n",
    "\n",
    "alexnet.save('alexnet.keras')\n",
    "\n",
    "plot_history(history)"
   ]
  }
 ],
 "metadata": {
  "kernelspec": {
   "display_name": "Python 3",
   "language": "python",
   "name": "python3"
  },
  "language_info": {
   "codemirror_mode": {
    "name": "ipython",
    "version": 3
   },
   "file_extension": ".py",
   "mimetype": "text/x-python",
   "name": "python",
   "nbconvert_exporter": "python",
   "pygments_lexer": "ipython3",
   "version": "3.12.2"
  }
 },
 "nbformat": 4,
 "nbformat_minor": 2
}
