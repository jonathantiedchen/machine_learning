{
 "cells": [
  {
   "cell_type": "code",
   "execution_count": 4,
   "metadata": {},
   "outputs": [],
   "source": [
    "import numpy as np\n",
    "X_val = np.load('/Volumes/SSD/x_val.npy')\n",
    "X_test = np.load('/Volumes/SSD/x_test.npy')\n",
    "X_train = np.load('/Volumes/SSD/x_train.npy')"
   ]
  },
  {
   "cell_type": "code",
   "execution_count": 39,
   "metadata": {},
   "outputs": [],
   "source": [
    "indices_val = np.random.choice(X_val.shape[0], 50, replace=False)\n",
    "indices_test = np.random.choice(X_test.shape[0], 50, replace=False)\n",
    "indices_train = np.random.choice(X_train.shape[0], 50, replace=False)"
   ]
  },
  {
   "cell_type": "code",
   "execution_count": 40,
   "metadata": {},
   "outputs": [],
   "source": [
    "import pandas as pd\n",
    "import ast\n",
    "import numpy as np\n",
    "#read csv files to get filepaths and labels \n",
    "df_train= pd.read_csv(\"FINAL_METER_ML_train_2000.csv\")\n",
    "df_val = pd.read_csv(\"FINAL_METER_ML_val.csv\")\n",
    "df_test = pd.read_csv(\"FINAL_METER_ML_test.csv\")\n",
    "\n",
    "# convert each string in the DataFrame to a list\n",
    "df_train['Label'] = df_train['Label'].apply(ast.literal_eval).apply(np.array)\n",
    "df_val['Label'] = df_val['Label'].apply(ast.literal_eval).apply(np.array)\n",
    "df_test['Label'] = df_test['Label'].apply(ast.literal_eval).apply(np.array)\n",
    "\n",
    "y_train = np.array(df_train['Label']).tolist()\n",
    "y_val = np.array(df_val['Label']).tolist()\n",
    "y_test = np.array(df_test['Label']).tolist()\n",
    "\n",
    "def create_labels (labels):\n",
    "    y_labels = []\n",
    "    for label in labels: \n",
    "        y_labels.append(label)\n",
    "    y_labels = np.array(y_labels)\n",
    "    return y_labels\n",
    "\n",
    "y_val = create_labels(y_val)\n",
    "y_train = create_labels(y_train)\n",
    "y_test = create_labels(y_test)"
   ]
  },
  {
   "cell_type": "code",
   "execution_count": 41,
   "metadata": {},
   "outputs": [],
   "source": [
    "y_val_mini = y_val[indices_val]\n",
    "y_train_mini = y_train[indices_train]\n",
    "y_test_mini = y_test[indices_test]"
   ]
  },
  {
   "cell_type": "code",
   "execution_count": 45,
   "metadata": {},
   "outputs": [],
   "source": [
    "X_val_mini = X_val[indices_val]\n",
    "X_test_mini = X_test[indices_test]\n",
    "X_test_mini = X_train[indices_train]"
   ]
  },
  {
   "cell_type": "code",
   "execution_count": 46,
   "metadata": {},
   "outputs": [],
   "source": [
    "np.save('x_train_mini.npy', X_val_mini)\n",
    "np.save('x_test_mini.npy', X_test_mini)\n",
    "np.save('x_val_mini.npy', X_val_mini)\n",
    "\n",
    "np.save('y_train_mini.npy', y_train_mini)\n",
    "np.save('y_test_mini.npy', y_test_mini)\n",
    "np.save('y_val_mini.npy', y_val_mini)"
   ]
  }
 ],
 "metadata": {
  "kernelspec": {
   "display_name": "Python 3",
   "language": "python",
   "name": "python3"
  },
  "language_info": {
   "codemirror_mode": {
    "name": "ipython",
    "version": 3
   },
   "file_extension": ".py",
   "mimetype": "text/x-python",
   "name": "python",
   "nbconvert_exporter": "python",
   "pygments_lexer": "ipython3",
   "version": "3.10.0"
  }
 },
 "nbformat": 4,
 "nbformat_minor": 2
}
