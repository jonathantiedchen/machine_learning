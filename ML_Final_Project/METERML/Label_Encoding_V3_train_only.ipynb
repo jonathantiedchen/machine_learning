{
 "cells": [
  {
   "cell_type": "code",
   "execution_count": null,
   "metadata": {},
   "outputs": [],
   "source": [
    "import pandas as pd\n",
    "\n",
    "df = pd.read_csv('FINAL_METER_ML_train_v2.csv')"
   ]
  },
  {
   "cell_type": "code",
   "execution_count": null,
   "metadata": {},
   "outputs": [],
   "source": [
    "mapping = {\n",
    "    \"CAFOs\": [1, 0, 0, 0, 0, 0, 0],\n",
    "    \"Landfills\": [0, 1, 0, 0, 0, 0, 0],\n",
    "    \"Mines\": [0, 0, 1, 0, 0, 0, 0],\n",
    "    \"Negative\": [0, 0, 0, 1, 0, 0, 0],\n",
    "    \"ProcessingPlants\": [0, 0, 0, 0, 1, 0, 0],\n",
    "    \"RefineriesAndTerminals\": [0, 0, 0, 0, 0, 1, 0],\n",
    "    \"WWTreatment\": [0, 0, 0, 0, 0, 0, 1]\n",
    "}"
   ]
  },
  {
   "cell_type": "code",
   "execution_count": null,
   "metadata": {},
   "outputs": [],
   "source": [
    "# Assuming 'df' is your existing DataFrame\n",
    "df['Label'] = df['Type'].apply(lambda x: mapping[x])"
   ]
  },
  {
   "cell_type": "code",
   "execution_count": null,
   "metadata": {},
   "outputs": [],
   "source": [
    "df.to_csv('FINAL_METER_ML_train.csv', index=False)"
   ]
  }
 ],
 "metadata": {
  "language_info": {
   "name": "python"
  }
 },
 "nbformat": 4,
 "nbformat_minor": 2
}
