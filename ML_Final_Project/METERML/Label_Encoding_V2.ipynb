{
 "cells": [
  {
   "cell_type": "code",
   "execution_count": null,
   "metadata": {},
   "outputs": [],
   "source": [
    "import pandas as pd\n",
    "from sklearn.preprocessing import OneHotEncoder"
   ]
  },
  {
   "cell_type": "code",
   "execution_count": 2,
   "metadata": {},
   "outputs": [],
   "source": [
    "# Label encoder Function.\n",
    "def label_encoder(csv_file):\n",
    "    # Read the CSV file\n",
    "    df = pd.read_csv(csv_file)\n",
    "\n",
    "    # Remove the \"Type_encoded\" column\n",
    "    df.drop(\"Type_encoded\", axis=1, inplace=True)\n",
    "\n",
    "    # Create an instance of the OneHotEncoder\n",
    "    encoder = OneHotEncoder(sparse=False, dtype=int)\n",
    "\n",
    "    # Fit and transform the \"Types\" column\n",
    "    types_encoded = encoder.fit_transform(df[[\"Type\"]])\n",
    "\n",
    "    # Create a new column \"Label\" with the encoded arrays\n",
    "    df[\"Label\"] = types_encoded.tolist()\n",
    "\n",
    "    return df\n",
    "\n"
   ]
  },
  {
   "cell_type": "markdown",
   "metadata": {},
   "source": [
    "### Test dataset"
   ]
  },
  {
   "cell_type": "code",
   "execution_count": 4,
   "metadata": {},
   "outputs": [
    {
     "name": "stdout",
     "output_type": "stream",
     "text": [
      "                                       Image_Folder   Type  \\\n",
      "0  samples/test_images/35.17852862_-79.99927082.png  CAFOs   \n",
      "1      samples/test_images/47.863317_-92.810639.png  CAFOs   \n",
      "2      samples/test_images/33.440833_-85.435833.png  CAFOs   \n",
      "3  samples/test_images/45.12488405_-94.24194995.png  CAFOs   \n",
      "4  samples/test_images/45.33317705_-94.50533971.png  CAFOs   \n",
      "\n",
      "                   Label  \n",
      "0  [1, 0, 0, 0, 0, 0, 0]  \n",
      "1  [1, 0, 0, 0, 0, 0, 0]  \n",
      "2  [1, 0, 0, 0, 0, 0, 0]  \n",
      "3  [1, 0, 0, 0, 0, 0, 0]  \n",
      "4  [1, 0, 0, 0, 0, 0, 0]  \n"
     ]
    },
    {
     "name": "stderr",
     "output_type": "stream",
     "text": [
      "/Library/Frameworks/Python.framework/Versions/3.8/lib/python3.8/site-packages/sklearn/preprocessing/_encoders.py:975: FutureWarning: `sparse` was renamed to `sparse_output` in version 1.2 and will be removed in 1.4. `sparse_output` is ignored unless you leave `sparse` to its default value.\n",
      "  warnings.warn(\n"
     ]
    }
   ],
   "source": [
    "df_test = label_encoder(\"METER_ML_test.csv\")\n",
    "print(df_test.head(5))"
   ]
  },
  {
   "cell_type": "code",
   "execution_count": 5,
   "metadata": {},
   "outputs": [],
   "source": [
    "df_test.to_csv(\"FINAL_METER_ML_test.csv\", index=False)\n"
   ]
  },
  {
   "cell_type": "markdown",
   "metadata": {},
   "source": [
    "### Validation Data set:"
   ]
  },
  {
   "cell_type": "code",
   "execution_count": 6,
   "metadata": {},
   "outputs": [
    {
     "name": "stdout",
     "output_type": "stream",
     "text": [
      "                                        Image_Folder                    Type  \\\n",
      "0              samples/val_images/42.793_-76.106.png             WWTreatment   \n",
      "1        samples/val_images/37.823062_-85.540612.png               Landfills   \n",
      "2  samples/val_images/35.56162459029078_-80.99540...                Negative   \n",
      "3  samples/val_images/36.030734677_-90.939679356.png  RefineriesAndTerminals   \n",
      "4              samples/val_images/43.515_-96.025.png                Negative   \n",
      "\n",
      "                   Label  \n",
      "0  [0, 0, 0, 0, 0, 0, 1]  \n",
      "1  [0, 1, 0, 0, 0, 0, 0]  \n",
      "2  [0, 0, 0, 1, 0, 0, 0]  \n",
      "3  [0, 0, 0, 0, 0, 1, 0]  \n",
      "4  [0, 0, 0, 1, 0, 0, 0]  \n"
     ]
    },
    {
     "name": "stderr",
     "output_type": "stream",
     "text": [
      "/Library/Frameworks/Python.framework/Versions/3.8/lib/python3.8/site-packages/sklearn/preprocessing/_encoders.py:975: FutureWarning: `sparse` was renamed to `sparse_output` in version 1.2 and will be removed in 1.4. `sparse_output` is ignored unless you leave `sparse` to its default value.\n",
      "  warnings.warn(\n"
     ]
    }
   ],
   "source": [
    "df_val = label_encoder(\"METER_ML_val.csv\")\n",
    "print(df_val.head(5))"
   ]
  },
  {
   "cell_type": "code",
   "execution_count": 7,
   "metadata": {},
   "outputs": [],
   "source": [
    "df_val.to_csv(\"FINAL_METER_ML_val.csv\", index=False)\n"
   ]
  },
  {
   "cell_type": "markdown",
   "metadata": {},
   "source": [
    "### Train Data Set"
   ]
  },
  {
   "cell_type": "code",
   "execution_count": 10,
   "metadata": {},
   "outputs": [
    {
     "name": "stdout",
     "output_type": "stream",
     "text": [
      "                                        Image_Folder         Type  \\\n",
      "0   samples/train_images/43.94827109_-93.6494963.png        CAFOs   \n",
      "1  samples/train_images/43.00443446102501_-78.208...     Negative   \n",
      "2             samples/train_images/38.616_-77.27.png  WWTreatment   \n",
      "3        samples/train_images/44.67296_-95.15357.png        CAFOs   \n",
      "4           samples/train_images/43.923_-111.611.png  WWTreatment   \n",
      "\n",
      "                   Label  \n",
      "0  [1, 0, 0, 0, 0, 0, 0]  \n",
      "1  [0, 0, 0, 1, 0, 0, 0]  \n",
      "2  [0, 0, 0, 0, 0, 0, 1]  \n",
      "3  [1, 0, 0, 0, 0, 0, 0]  \n",
      "4  [0, 0, 0, 0, 0, 0, 1]  \n"
     ]
    },
    {
     "name": "stderr",
     "output_type": "stream",
     "text": [
      "/Library/Frameworks/Python.framework/Versions/3.8/lib/python3.8/site-packages/sklearn/preprocessing/_encoders.py:975: FutureWarning: `sparse` was renamed to `sparse_output` in version 1.2 and will be removed in 1.4. `sparse_output` is ignored unless you leave `sparse` to its default value.\n",
      "  warnings.warn(\n"
     ]
    }
   ],
   "source": [
    "df_train = label_encoder(\"METER_ML_train.csv\")\n",
    "print(df_train.head(5))"
   ]
  },
  {
   "cell_type": "code",
   "execution_count": 11,
   "metadata": {},
   "outputs": [],
   "source": [
    "df_train.to_csv(\"FINAL_METER_ML_train.csv\", index=False)\n"
   ]
  }
 ],
 "metadata": {
  "kernelspec": {
   "display_name": "Python 3",
   "language": "python",
   "name": "python3"
  },
  "language_info": {
   "codemirror_mode": {
    "name": "ipython",
    "version": 3
   },
   "file_extension": ".py",
   "mimetype": "text/x-python",
   "name": "python",
   "nbconvert_exporter": "python",
   "pygments_lexer": "ipython3",
   "version": "3.8.3"
  }
 },
 "nbformat": 4,
 "nbformat_minor": 2
}
