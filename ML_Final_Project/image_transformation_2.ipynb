{
  "cells": [
    {
      "cell_type": "code",
      "execution_count": null,
      "metadata": {
        "id": "lTFFWHUjblxk"
      },
      "outputs": [],
      "source": [
        "%pip install azure-storage-blob\n",
        "%pip install opencv-python\n",
        "\n",
        "from azure.storage.blob import BlobServiceClient\n",
        "import json\n",
        "import os\n",
        "from PIL import Image\n",
        "import matplotlib.pyplot as plt\n",
        "import io  # Used to convert bytes to a file-like object\n",
        "import cv2\n",
        "import numpy as np\n",
        "\n",
        "\n",
        "#set up storage\n",
        "connection_string = \"DefaultEndpointsProtocol=https;AccountName=mlfinalexam5505462853;AccountKey=0c40lghglG5/GlNK9yujDQAgo38GKoS2I3DeC/g22hwAEIFANKpmC/TqOpRk4RCT1DbfNiHBFt72+AStB+PfUA==;EndpointSuffix=core.windows.net\"\n",
        "container_name = \"publicdata\"\n",
        "\n",
        "#create client\n",
        "blob_service_client = BlobServiceClient.from_connection_string(connection_string)\n",
        "container_client = blob_service_client.get_container_client(container_name)"
      ]
    },
    {
      "cell_type": "code",
      "execution_count": null,
      "metadata": {
        "colab": {
          "base_uri": "https://localhost:8080/"
        },
        "id": "Rcw4gyRd0NT4",
        "outputId": "758fb7b7-02c6-4625-d5bd-9bd521649aef"
      },
      "outputs": [],
      "source": [
        "# Variables to accumulate dimensions\n",
        "total_images = 0\n",
        "total_width = 0\n",
        "total_height = 0\n",
        "\n",
        "# Loop through all blobs and accumulate dimensions\n",
        "blobs = container_client.list_blobs()\n",
        "for blob in blobs:\n",
        "    if blob.name.endswith(\".jpg\"):\n",
        "        # Download the image\n",
        "        image_blob_client = container_client.get_blob_client(blob.name)\n",
        "        image_content = image_blob_client.download_blob().readall()\n",
        "\n",
        "        # Decode image with OpenCV\n",
        "        image = cv2.imdecode(np.frombuffer(image_content, np.uint8), cv2.IMREAD_COLOR)\n",
        "\n",
        "        # Accumulate dimensions\n",
        "        height, width, _ = image.shape\n",
        "        total_images += 1\n",
        "        total_width += width\n",
        "        total_height += height\n",
        "\n",
        "# Calculate summary statistics\n",
        "average_width = total_width / total_images\n",
        "average_height = total_height / total_images\n",
        "\n",
        "print(f\"Total images: {total_images}\")\n",
        "print(f\"Average width: {average_width}\")\n",
        "print(f\"Average height: {average_height}\")"
      ]
    },
    {
      "cell_type": "code",
      "execution_count": null,
      "metadata": {
        "id": "FQ_dElQXbpZr"
      },
      "outputs": [],
      "source": [
        "# Parameters for preprocessing\n",
        "desired_width = 256  # Desired width for resizing\n",
        "desired_height = 256  # Desired height for resizing\n",
        "median_kernel_size = 5  # Kernel size for median blur\n",
        "canny_threshold1 = 0.4  # Lower threshold for Canny edge detection\n",
        "canny_threshold2 = 0.8  # Upper threshold for Canny edge detection\n",
        "\n",
        "# Augmentation parameters\n",
        "flip_horizontal = True\n",
        "flip_vertical = True\n",
        "rotate_90 = True\n",
        "\n",
        "# Function to apply preprocessing steps\n",
        "def preprocess_image(image):\n",
        "    # sourcery skip: inline-immediately-returned-variable\n",
        "    # Convert image to grayscale\n",
        "    grayscale_image = cv2.cvtColor(image, cv2.COLOR_BGR2GRAY)\n",
        "\n",
        "    # Resize the image\n",
        "    resized_image = cv2.resize(grayscale_image, (desired_width, desired_height))\n",
        "\n",
        "    # Normalize pixel values to [0, 1]\n",
        "    normalized_image = np.zeros((desired_width, desired_height), np.float32)  # Create a float32 type empty array\n",
        "    cv2.normalize(resized_image, normalized_image, 0, 1, cv2.NORM_MINMAX, dtype=cv2.CV_32F)\n",
        "\n",
        "    # Apply histogram equalization\n",
        "    equalized_image = cv2.equalizeHist(np.uint8(normalized_image * 255))\n",
        "\n",
        "    # Apply edge detection using Canny\n",
        "    #edges = cv2.Canny(np.uint8(normalized_image * 255), canny_threshold1, canny_threshold2)\n",
        "\n",
        "    return equalized_image\n",
        "\n",
        "# Loop through all blobs and process images directly\n",
        "blobs = container_client.list_blobs()\n",
        "for blob in blobs:\n",
        "    if blob.name.endswith(\".jpg\"):\n",
        "        # Download the original image\n",
        "        image_blob_client = container_client.get_blob_client(blob.name)\n",
        "        image_content = image_blob_client.download_blob().readall()\n",
        "\n",
        "        # Preprocess the original image\n",
        "        nparr = np.frombuffer(image_content, np.uint8)\n",
        "        original_image = cv2.imdecode(nparr, cv2.IMREAD_COLOR)  # Convert bytes to numpy array\n",
        "        \n",
        "        # Apply augmentations\n",
        "        #augmentations = []\n",
        "\n",
        "        # if flip_horizontal:\n",
        "        #     augmentations.append(cv2.flip(original_image, 1))\n",
        "\n",
        "        # if flip_vertical:\n",
        "        #     augmentations.append(cv2.flip(original_image, 0))\n",
        "\n",
        "        # if rotate_90:\n",
        "        #     augmentations.append(cv2.rotate(original_image, cv2.ROTATE_90_CLOCKWISE))\n",
        "\n",
        "        # Save augmented images and preprocess\n",
        "        #for i, augmented_image in enumerate(augmentations):\n",
        "            # Preprocess the augmented image\n",
        "        #    preprocessed_image = preprocess_image(augmented_image)\n",
        "\n",
        "        #    # Save preprocessed augmented image to a temporary file\n",
        "        #    temp_file_path = f\"preprocessed_augmented_image_{i}.jpg\"\n",
        "        #    cv2.imwrite(temp_file_path, (preprocessed_image * 255).astype(np.uint8))  # Save preprocessed image after preprocessing steps\n",
        "\n",
        "        #    # Upload the preprocessed augmented image back to Azure Blob Storage\n",
        "        #    with open(temp_file_path, \"rb\") as data:\n",
        "        #        container_client.upload_blob(name=\"preprocessed/\" + temp_file_path, data=data, overwrite = True)\n",
        "\n",
        "        #    # Clean up temporary file\n",
        "        #    os.remove(temp_file_path)\n",
        "\n",
        "        # Preprocess the original image\n",
        "        preprocessed_original_image = preprocess_image(original_image)\n",
        "\n",
        "        # Save preprocessed original image to a temporary file\n",
        "        original_temp_file_path = \"preprocessed_original_temp_image.jpg\"\n",
        "        cv2.imwrite(original_temp_file_path, preprocessed_original_image)  # Save preprocessed image\n",
        "\n",
        "        # Construct new blob path with 'preprocessed/' prefix\n",
        "        preprocessed_blob_path = \"preprocessed/\" + blob.name\n",
        "\n",
        "        # Upload the preprocessed original image back to Azure Blob Storage\n",
        "        with open(original_temp_file_path, \"rb\") as data:\n",
        "            container_client.upload_blob(name=preprocessed_blob_path, data=data, overwrite=True)\n",
        "\n",
        "        # Clean up the temporary file\n",
        "        os.remove(original_temp_file_path)\n",
        "\n"
      ]
    },
    {
      "cell_type": "code",
      "execution_count": null,
      "metadata": {},
      "outputs": [],
      "source": [
        "plt.figure(figsize=(6, 6))\n",
        "plt.imshow(preprocessed_original_image, cmap='gray')\n",
        "plt.title(\"Preprocessed Image\")\n",
        "plt.axis('off')  # Hide axes\n",
        "plt.show()"
      ]
    },
    {
      "cell_type": "code",
      "execution_count": 23,
      "metadata": {
        "id": "Cc-klE4EnLvH"
      },
      "outputs": [],
      "source": [
        "##### Plot plain image function\n",
        "\n",
        "# Directory where your JPEG files are located\n",
        "def plot_image(image_id):\n",
        "    # Get the BlobClient for the specific image\n",
        "    blob_client = container_client.get_blob_client(image_id)\n",
        "\n",
        "    # Download the blob's content as bytes\n",
        "    blob_data = blob_client.download_blob().chunks()  # Read the entire blob content\n",
        "\n",
        "    # Convert the blob data into a file-like object using io.BytesIO\n",
        "    image_data = io.BytesIO(b\"\".join(blob_data))\n",
        "\n",
        "    # Open the image using PIL.Image\n",
        "    image = Image.open(image_data)\n",
        "\n",
        "    # Display the image using matplotlib\n",
        "    plt.imshow(image)\n",
        "    plt.axis('off')  # Hide axes for better visualization\n",
        "    plt.title(f\"Image with ID {image_id}\")\n",
        "    plt.show()\n",
        "\n",
        "\n"
      ]
    },
    {
      "cell_type": "code",
      "execution_count": 24,
      "metadata": {
        "id": "L2cbgngjnLP2"
      },
      "outputs": [
        {
          "data": {
            "image/png": "[encoded data removed]",
            "text/plain": [
              "<Figure size 640x480 with 1 Axes>"
            ]
          },
          "metadata": {},
          "output_type": "display_data"
        }
      ],
      "source": [
        "image = \"preprocessed/preprocessed_augmented_image_2.jpg\"\n",
        "plot_image(image)"
      ]
    },
    {
      "cell_type": "code",
      "execution_count": null,
      "metadata": {
        "id": "CN3DGmcNnKE7"
      },
      "outputs": [],
      "source": []
    },
    {
      "cell_type": "code",
      "execution_count": null,
      "metadata": {
        "id": "G3T8-SRxnMYz"
      },
      "outputs": [],
      "source": []
    },
    {
      "cell_type": "markdown",
      "metadata": {
        "id": "2J06gtOnbMF-"
      },
      "source": []
    }
  ],
  "metadata": {
    "colab": {
      "provenance": []
    },
    "kernelspec": {
      "display_name": "Python 3",
      "name": "python3"
    },
    "language_info": {
      "codemirror_mode": {
        "name": "ipython",
        "version": 3
      },
      "file_extension": ".py",
      "mimetype": "text/x-python",
      "name": "python",
      "nbconvert_exporter": "python",
      "pygments_lexer": "ipython3",
      "version": "3.11.5"
    }
  },
  "nbformat": 4,
  "nbformat_minor": 0
}
