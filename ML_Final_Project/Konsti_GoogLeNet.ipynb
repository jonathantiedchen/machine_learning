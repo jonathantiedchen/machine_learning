{
 "cells": [
  {
   "cell_type": "code",
   "execution_count": 13,
   "metadata": {},
   "outputs": [
    {
     "name": "stdout",
     "output_type": "stream",
     "text": [
      "Deleted blob: samples/CAM_BACK/n003-2018-01-03-12-03-23+0800__CAM_BACK__1514952316316487.jpg\n",
      "Deleted blob: samples/CAM_BACK/n003-2018-01-08-11-30-34+0800__CAM_BACK__1515382745757583.jpg\n",
      "Deleted blob: samples/CAM_BACK/n003-2018-07-12-15-40-35+0800__CAM_BACK__1531383596387543.jpg\n",
      "Deleted blob: samples/CAM_BACK/n005-2018-06-14-20-11-03+0800__CAM_BACK__1528979868187591.jpg\n",
      "Deleted blob: samples/CAM_BACK/n008-2018-06-04-16-30-00-0400__CAM_BACK__1528144232887570.jpg\n",
      "Deleted blob: samples/CAM_BACK/n009-2018-05-08-15-52-41-0400__CAM_BACK__1525809758643363.jpg\n",
      "Deleted blob: samples/CAM_BACK/n010-2018-08-27-12-00-23+0800__CAM_BACK__1535342963787283.jpg\n",
      "Deleted blob: samples/CAM_BACK/n013-2018-08-20-14-38-24+0800__CAM_BACK__1534747168787005.jpg\n",
      "Deleted blob: samples/CAM_BACK/n013-2018-08-21-11-46-25+0800__CAM_BACK__1534823329537005.jpg\n",
      "Deleted blob: samples/CAM_BACK/n013-2018-08-28-16-04-27+0800__CAM_BACK__1535443725287005.jpg\n",
      "Deleted blob: samples/CAM_BACK/n013-2018-08-29-11-41-15+0800__CAM_BACK__1535514187537005.jpg\n"
     ]
    }
   ],
   "source": [
    "### delete files in azure\n",
    "# Specify the folder prefix (e.g., \"samples/\")\n",
    "folder_prefix = \"samples/\"\n",
    "\n",
    "# List all blobs in the folder\n",
    "blobs = container_client.list_blobs(name_starts_with=folder_prefix)\n",
    "\n",
    "# Delete each blob in the folder\n",
    "for blob in blobs:\n",
    "    blob_client = container_client.get_blob_client(blob.name)\n",
    "    blob_client.delete_blob()\n",
    "    print(f\"Deleted blob: {blob.name}\")"
   ]
  },
  {
   "cell_type": "code",
   "execution_count": 29,
   "metadata": {},
   "outputs": [
    {
     "data": {
      "text/plain": [
       "['.DS_Store',\n",
       " 'CAM_BACK',\n",
       " 'CAM_BACK_LEFT',\n",
       " 'CAM_BACK_RIGHT',\n",
       " 'CAM_FRONT',\n",
       " 'CAM_FRONT_LEFT',\n",
       " 'CAM_FRONT_RIGHT']"
      ]
     },
     "execution_count": 29,
     "metadata": {},
     "output_type": "execute_result"
    }
   ],
   "source": [
    "all_items = os.listdir(base_directory)\n",
    "all_items\n"
   ]
  },
  {
   "cell_type": "code",
   "execution_count": null,
   "metadata": {},
   "outputs": [],
   "source": []
  }
 ],
 "metadata": {
  "kernelspec": {
   "display_name": "Python 3",
   "language": "python",
   "name": "python3"
  },
  "language_info": {
   "codemirror_mode": {
    "name": "ipython",
    "version": 3
   },
   "file_extension": ".py",
   "mimetype": "text/x-python",
   "name": "python",
   "nbconvert_exporter": "python",
   "pygments_lexer": "ipython3",
   "version": "3.8.3"
  }
 },
 "nbformat": 4,
 "nbformat_minor": 2
}
