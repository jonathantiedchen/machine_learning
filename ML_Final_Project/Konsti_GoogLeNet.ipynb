{
 "cells": [
  {
   "cell_type": "markdown",
   "metadata": {},
   "source": [
    "# Implementation of GoogLeNet using Google resources"
   ]
  },
  {
   "cell_type": "markdown",
   "metadata": {},
   "source": [
    "We will introduce GoogLeNet, presenting a slightly simplified version of the original model: we omit a few ad-hoc features that were added to stabilize training but are unnecessary now with better training algorithms available."
   ]
  },
  {
   "cell_type": "code",
   "execution_count": 1,
   "metadata": {},
   "outputs": [
    {
     "name": "stdout",
     "output_type": "stream",
     "text": [
      "Collecting d2l==0.17.6\n",
      "  Downloading d2l-0.17.6-py3-none-any.whl (112 kB)\n",
      "\u001b[K     |████████████████████████████████| 112 kB 7.3 MB/s eta 0:00:01\n",
      "\u001b[?25hCollecting numpy==1.21.5\n",
      "  Downloading numpy-1.21.5-cp38-cp38-macosx_10_9_x86_64.whl (16.9 MB)\n",
      "\u001b[K     |████████████████████████████████| 16.9 MB 7.2 MB/s eta 0:00:01     |█████▏                          | 2.7 MB 10.8 MB/s eta 0:00:02\n",
      "\u001b[?25hRequirement already satisfied: jupyter==1.0.0 in /Users/konstantinreicheneder/opt/anaconda3/lib/python3.8/site-packages (from d2l==0.17.6) (1.0.0)\n",
      "Collecting matplotlib==3.5.1\n",
      "  Downloading matplotlib-3.5.1-cp38-cp38-macosx_10_9_x86_64.whl (7.3 MB)\n",
      "\u001b[K     |████████████████████████████████| 7.3 MB 87 kB/s eta 0:00:0101\n",
      "\u001b[?25hCollecting requests==2.25.1\n",
      "  Downloading requests-2.25.1-py2.py3-none-any.whl (61 kB)\n",
      "\u001b[K     |████████████████████████████████| 61 kB 7.1 MB/s eta 0:00:011\n",
      "\u001b[?25hCollecting pandas==1.2.4\n",
      "  Downloading pandas-1.2.4-cp38-cp38-macosx_10_9_x86_64.whl (10.5 MB)\n",
      "\u001b[K     |████████████████████████████████| 10.5 MB 9.9 MB/s eta 0:00:01\n",
      "\u001b[?25hRequirement already satisfied: ipykernel in /Users/konstantinreicheneder/opt/anaconda3/lib/python3.8/site-packages (from jupyter==1.0.0->d2l==0.17.6) (5.3.4)\n",
      "Requirement already satisfied: qtconsole in /Users/konstantinreicheneder/opt/anaconda3/lib/python3.8/site-packages (from jupyter==1.0.0->d2l==0.17.6) (4.7.7)\n",
      "Requirement already satisfied: nbconvert in /Users/konstantinreicheneder/opt/anaconda3/lib/python3.8/site-packages (from jupyter==1.0.0->d2l==0.17.6) (6.0.7)\n",
      "Requirement already satisfied: notebook in /Users/konstantinreicheneder/opt/anaconda3/lib/python3.8/site-packages (from jupyter==1.0.0->d2l==0.17.6) (6.1.4)\n",
      "Requirement already satisfied: jupyter-console in /Users/konstantinreicheneder/opt/anaconda3/lib/python3.8/site-packages (from jupyter==1.0.0->d2l==0.17.6) (6.2.0)\n",
      "Requirement already satisfied: ipywidgets in /Users/konstantinreicheneder/opt/anaconda3/lib/python3.8/site-packages (from jupyter==1.0.0->d2l==0.17.6) (7.5.1)\n",
      "Requirement already satisfied: python-dateutil>=2.7 in /Users/konstantinreicheneder/opt/anaconda3/lib/python3.8/site-packages (from matplotlib==3.5.1->d2l==0.17.6) (2.8.1)\n",
      "Requirement already satisfied: packaging>=20.0 in /Users/konstantinreicheneder/opt/anaconda3/lib/python3.8/site-packages (from matplotlib==3.5.1->d2l==0.17.6) (20.4)\n",
      "Collecting fonttools>=4.22.0\n",
      "  Downloading fonttools-4.51.0-cp38-cp38-macosx_10_9_x86_64.whl (2.3 MB)\n",
      "\u001b[K     |████████████████████████████████| 2.3 MB 5.9 MB/s eta 0:00:01\n",
      "\u001b[?25hRequirement already satisfied: pillow>=6.2.0 in /Users/konstantinreicheneder/opt/anaconda3/lib/python3.8/site-packages (from matplotlib==3.5.1->d2l==0.17.6) (8.0.1)\n",
      "Requirement already satisfied: pyparsing>=2.2.1 in /Users/konstantinreicheneder/opt/anaconda3/lib/python3.8/site-packages (from matplotlib==3.5.1->d2l==0.17.6) (2.4.7)\n",
      "Requirement already satisfied: kiwisolver>=1.0.1 in /Users/konstantinreicheneder/opt/anaconda3/lib/python3.8/site-packages (from matplotlib==3.5.1->d2l==0.17.6) (1.3.0)\n",
      "Requirement already satisfied: cycler>=0.10 in /Users/konstantinreicheneder/opt/anaconda3/lib/python3.8/site-packages (from matplotlib==3.5.1->d2l==0.17.6) (0.10.0)\n",
      "Requirement already satisfied: chardet<5,>=3.0.2 in /Users/konstantinreicheneder/opt/anaconda3/lib/python3.8/site-packages (from requests==2.25.1->d2l==0.17.6) (3.0.4)\n",
      "Requirement already satisfied: idna<3,>=2.5 in /Users/konstantinreicheneder/opt/anaconda3/lib/python3.8/site-packages (from requests==2.25.1->d2l==0.17.6) (2.10)\n",
      "Requirement already satisfied: urllib3<1.27,>=1.21.1 in /Users/konstantinreicheneder/opt/anaconda3/lib/python3.8/site-packages (from requests==2.25.1->d2l==0.17.6) (1.25.11)\n",
      "Requirement already satisfied: certifi>=2017.4.17 in /Users/konstantinreicheneder/opt/anaconda3/lib/python3.8/site-packages (from requests==2.25.1->d2l==0.17.6) (2020.6.20)\n",
      "Requirement already satisfied: pytz>=2017.3 in /Users/konstantinreicheneder/opt/anaconda3/lib/python3.8/site-packages (from pandas==1.2.4->d2l==0.17.6) (2020.1)\n",
      "Requirement already satisfied: ipython>=5.0.0 in /Users/konstantinreicheneder/opt/anaconda3/lib/python3.8/site-packages (from ipykernel->jupyter==1.0.0->d2l==0.17.6) (7.19.0)\n",
      "Requirement already satisfied: tornado>=4.2 in /Users/konstantinreicheneder/opt/anaconda3/lib/python3.8/site-packages (from ipykernel->jupyter==1.0.0->d2l==0.17.6) (6.0.4)\n",
      "Requirement already satisfied: jupyter-client in /Users/konstantinreicheneder/opt/anaconda3/lib/python3.8/site-packages (from ipykernel->jupyter==1.0.0->d2l==0.17.6) (6.1.7)\n",
      "Requirement already satisfied: traitlets>=4.1.0 in /Users/konstantinreicheneder/opt/anaconda3/lib/python3.8/site-packages (from ipykernel->jupyter==1.0.0->d2l==0.17.6) (5.0.5)\n",
      "Requirement already satisfied: appnope; platform_system == \"Darwin\" in /Users/konstantinreicheneder/opt/anaconda3/lib/python3.8/site-packages (from ipykernel->jupyter==1.0.0->d2l==0.17.6) (0.1.0)\n",
      "Requirement already satisfied: qtpy in /Users/konstantinreicheneder/opt/anaconda3/lib/python3.8/site-packages (from qtconsole->jupyter==1.0.0->d2l==0.17.6) (1.9.0)\n",
      "Requirement already satisfied: ipython-genutils in /Users/konstantinreicheneder/opt/anaconda3/lib/python3.8/site-packages (from qtconsole->jupyter==1.0.0->d2l==0.17.6) (0.2.0)\n",
      "Requirement already satisfied: jupyter-core in /Users/konstantinreicheneder/opt/anaconda3/lib/python3.8/site-packages (from qtconsole->jupyter==1.0.0->d2l==0.17.6) (4.6.3)\n",
      "Requirement already satisfied: pyzmq>=17.1 in /Users/konstantinreicheneder/opt/anaconda3/lib/python3.8/site-packages (from qtconsole->jupyter==1.0.0->d2l==0.17.6) (19.0.2)\n",
      "Requirement already satisfied: pygments in /Users/konstantinreicheneder/opt/anaconda3/lib/python3.8/site-packages (from qtconsole->jupyter==1.0.0->d2l==0.17.6) (2.7.2)\n",
      "Requirement already satisfied: nbformat>=4.4 in /Users/konstantinreicheneder/opt/anaconda3/lib/python3.8/site-packages (from nbconvert->jupyter==1.0.0->d2l==0.17.6) (5.0.8)\n",
      "Requirement already satisfied: jinja2>=2.4 in /Users/konstantinreicheneder/opt/anaconda3/lib/python3.8/site-packages (from nbconvert->jupyter==1.0.0->d2l==0.17.6) (2.11.2)\n",
      "Requirement already satisfied: mistune<2,>=0.8.1 in /Users/konstantinreicheneder/opt/anaconda3/lib/python3.8/site-packages (from nbconvert->jupyter==1.0.0->d2l==0.17.6) (0.8.4)\n",
      "Requirement already satisfied: entrypoints>=0.2.2 in /Users/konstantinreicheneder/opt/anaconda3/lib/python3.8/site-packages (from nbconvert->jupyter==1.0.0->d2l==0.17.6) (0.3)\n",
      "Requirement already satisfied: bleach in /Users/konstantinreicheneder/opt/anaconda3/lib/python3.8/site-packages (from nbconvert->jupyter==1.0.0->d2l==0.17.6) (3.2.1)\n",
      "Requirement already satisfied: jupyterlab-pygments in /Users/konstantinreicheneder/opt/anaconda3/lib/python3.8/site-packages (from nbconvert->jupyter==1.0.0->d2l==0.17.6) (0.1.2)\n",
      "Requirement already satisfied: defusedxml in /Users/konstantinreicheneder/opt/anaconda3/lib/python3.8/site-packages (from nbconvert->jupyter==1.0.0->d2l==0.17.6) (0.6.0)\n",
      "Requirement already satisfied: testpath in /Users/konstantinreicheneder/opt/anaconda3/lib/python3.8/site-packages (from nbconvert->jupyter==1.0.0->d2l==0.17.6) (0.4.4)\n",
      "Requirement already satisfied: nbclient<0.6.0,>=0.5.0 in /Users/konstantinreicheneder/opt/anaconda3/lib/python3.8/site-packages (from nbconvert->jupyter==1.0.0->d2l==0.17.6) (0.5.1)\n",
      "Requirement already satisfied: pandocfilters>=1.4.1 in /Users/konstantinreicheneder/opt/anaconda3/lib/python3.8/site-packages (from nbconvert->jupyter==1.0.0->d2l==0.17.6) (1.4.3)\n",
      "Requirement already satisfied: prometheus-client in /Users/konstantinreicheneder/opt/anaconda3/lib/python3.8/site-packages (from notebook->jupyter==1.0.0->d2l==0.17.6) (0.8.0)\n",
      "Requirement already satisfied: Send2Trash in /Users/konstantinreicheneder/opt/anaconda3/lib/python3.8/site-packages (from notebook->jupyter==1.0.0->d2l==0.17.6) (1.5.0)\n",
      "Requirement already satisfied: argon2-cffi in /Users/konstantinreicheneder/opt/anaconda3/lib/python3.8/site-packages (from notebook->jupyter==1.0.0->d2l==0.17.6) (20.1.0)\n",
      "Requirement already satisfied: terminado>=0.8.3 in /Users/konstantinreicheneder/opt/anaconda3/lib/python3.8/site-packages (from notebook->jupyter==1.0.0->d2l==0.17.6) (0.9.1)\n",
      "Requirement already satisfied: prompt-toolkit!=3.0.0,!=3.0.1,<3.1.0,>=2.0.0 in /Users/konstantinreicheneder/opt/anaconda3/lib/python3.8/site-packages (from jupyter-console->jupyter==1.0.0->d2l==0.17.6) (3.0.8)\n",
      "Requirement already satisfied: widgetsnbextension~=3.5.0 in /Users/konstantinreicheneder/opt/anaconda3/lib/python3.8/site-packages (from ipywidgets->jupyter==1.0.0->d2l==0.17.6) (3.5.1)\n",
      "Requirement already satisfied: six>=1.5 in /Users/konstantinreicheneder/opt/anaconda3/lib/python3.8/site-packages (from python-dateutil>=2.7->matplotlib==3.5.1->d2l==0.17.6) (1.15.0)\n",
      "Requirement already satisfied: decorator in /Users/konstantinreicheneder/opt/anaconda3/lib/python3.8/site-packages (from ipython>=5.0.0->ipykernel->jupyter==1.0.0->d2l==0.17.6) (4.4.2)\n",
      "Requirement already satisfied: backcall in /Users/konstantinreicheneder/opt/anaconda3/lib/python3.8/site-packages (from ipython>=5.0.0->ipykernel->jupyter==1.0.0->d2l==0.17.6) (0.2.0)\n",
      "Requirement already satisfied: jedi>=0.10 in /Users/konstantinreicheneder/opt/anaconda3/lib/python3.8/site-packages (from ipython>=5.0.0->ipykernel->jupyter==1.0.0->d2l==0.17.6) (0.17.1)\n",
      "Requirement already satisfied: pexpect>4.3; sys_platform != \"win32\" in /Users/konstantinreicheneder/opt/anaconda3/lib/python3.8/site-packages (from ipython>=5.0.0->ipykernel->jupyter==1.0.0->d2l==0.17.6) (4.8.0)\n",
      "Requirement already satisfied: pickleshare in /Users/konstantinreicheneder/opt/anaconda3/lib/python3.8/site-packages (from ipython>=5.0.0->ipykernel->jupyter==1.0.0->d2l==0.17.6) (0.7.5)\n",
      "Requirement already satisfied: setuptools>=18.5 in /Users/konstantinreicheneder/opt/anaconda3/lib/python3.8/site-packages (from ipython>=5.0.0->ipykernel->jupyter==1.0.0->d2l==0.17.6) (50.3.1.post20201107)\n",
      "Requirement already satisfied: jsonschema!=2.5.0,>=2.4 in /Users/konstantinreicheneder/opt/anaconda3/lib/python3.8/site-packages (from nbformat>=4.4->nbconvert->jupyter==1.0.0->d2l==0.17.6) (3.2.0)\n",
      "Requirement already satisfied: MarkupSafe>=0.23 in /Users/konstantinreicheneder/opt/anaconda3/lib/python3.8/site-packages (from jinja2>=2.4->nbconvert->jupyter==1.0.0->d2l==0.17.6) (1.1.1)\n",
      "Requirement already satisfied: webencodings in /Users/konstantinreicheneder/opt/anaconda3/lib/python3.8/site-packages (from bleach->nbconvert->jupyter==1.0.0->d2l==0.17.6) (0.5.1)\n",
      "Requirement already satisfied: nest-asyncio in /Users/konstantinreicheneder/opt/anaconda3/lib/python3.8/site-packages (from nbclient<0.6.0,>=0.5.0->nbconvert->jupyter==1.0.0->d2l==0.17.6) (1.4.2)\n",
      "Requirement already satisfied: async-generator in /Users/konstantinreicheneder/opt/anaconda3/lib/python3.8/site-packages (from nbclient<0.6.0,>=0.5.0->nbconvert->jupyter==1.0.0->d2l==0.17.6) (1.10)\n",
      "Requirement already satisfied: cffi>=1.0.0 in /Users/konstantinreicheneder/opt/anaconda3/lib/python3.8/site-packages (from argon2-cffi->notebook->jupyter==1.0.0->d2l==0.17.6) (1.14.3)\n",
      "Requirement already satisfied: ptyprocess in /Users/konstantinreicheneder/opt/anaconda3/lib/python3.8/site-packages (from terminado>=0.8.3->notebook->jupyter==1.0.0->d2l==0.17.6) (0.6.0)\n",
      "Requirement already satisfied: wcwidth in /Users/konstantinreicheneder/opt/anaconda3/lib/python3.8/site-packages (from prompt-toolkit!=3.0.0,!=3.0.1,<3.1.0,>=2.0.0->jupyter-console->jupyter==1.0.0->d2l==0.17.6) (0.2.5)\n",
      "Requirement already satisfied: parso<0.8.0,>=0.7.0 in /Users/konstantinreicheneder/opt/anaconda3/lib/python3.8/site-packages (from jedi>=0.10->ipython>=5.0.0->ipykernel->jupyter==1.0.0->d2l==0.17.6) (0.7.0)\n",
      "Requirement already satisfied: attrs>=17.4.0 in /Users/konstantinreicheneder/opt/anaconda3/lib/python3.8/site-packages (from jsonschema!=2.5.0,>=2.4->nbformat>=4.4->nbconvert->jupyter==1.0.0->d2l==0.17.6) (20.3.0)\n",
      "Requirement already satisfied: pyrsistent>=0.14.0 in /Users/konstantinreicheneder/opt/anaconda3/lib/python3.8/site-packages (from jsonschema!=2.5.0,>=2.4->nbformat>=4.4->nbconvert->jupyter==1.0.0->d2l==0.17.6) (0.17.3)\n",
      "Requirement already satisfied: pycparser in /Users/konstantinreicheneder/opt/anaconda3/lib/python3.8/site-packages (from cffi>=1.0.0->argon2-cffi->notebook->jupyter==1.0.0->d2l==0.17.6) (2.20)\n",
      "Installing collected packages: numpy, fonttools, matplotlib, requests, pandas, d2l\n",
      "  Attempting uninstall: numpy\n",
      "    Found existing installation: numpy 1.19.2\n",
      "    Uninstalling numpy-1.19.2:\n",
      "      Successfully uninstalled numpy-1.19.2\n",
      "  Attempting uninstall: matplotlib\n",
      "    Found existing installation: matplotlib 3.3.2\n",
      "    Uninstalling matplotlib-3.3.2:\n",
      "      Successfully uninstalled matplotlib-3.3.2\n",
      "  Attempting uninstall: requests\n",
      "    Found existing installation: requests 2.24.0\n",
      "    Uninstalling requests-2.24.0:\n",
      "      Successfully uninstalled requests-2.24.0\n",
      "  Attempting uninstall: pandas\n",
      "    Found existing installation: pandas 1.1.3\n",
      "    Uninstalling pandas-1.1.3:\n",
      "      Successfully uninstalled pandas-1.1.3\n",
      "\u001b[31mERROR: After October 2020 you may experience errors when installing or updating packages. This is because pip will change the way that it resolves dependency conflicts.\n",
      "\n",
      "We recommend you use --use-feature=2020-resolver to test your packages with the new resolver before it becomes the default.\n",
      "\n",
      "conda 4.10.3 requires ruamel_yaml_conda>=0.11.14, which is not installed.\n",
      "conda-repo-cli 1.0.4 requires pathlib, which is not installed.\u001b[0m\n",
      "Successfully installed d2l-0.17.6 fonttools-4.51.0 matplotlib-3.5.1 numpy-1.21.5 pandas-1.2.4 requests-2.25.1\n"
     ]
    }
   ],
   "source": [
    "#Necessary to run in notebook\n",
    "!pip install d2l==0.17.6"
   ]
  },
  {
   "cell_type": "markdown",
   "metadata": {},
   "source": [
    "## Define Inception Blocks"
   ]
  },
  {
   "cell_type": "code",
   "execution_count": 6,
   "metadata": {},
   "outputs": [
    {
     "ename": "ModuleNotFoundError",
     "evalue": "No module named 'tensorflow'",
     "output_type": "error",
     "traceback": [
      "\u001b[0;31m---------------------------------------------------------------------------\u001b[0m",
      "\u001b[0;31mModuleNotFoundError\u001b[0m                       Traceback (most recent call last)",
      "Cell \u001b[0;32mIn[6], line 1\u001b[0m\n\u001b[0;32m----> 1\u001b[0m \u001b[38;5;28;01mimport\u001b[39;00m \u001b[38;5;21;01mtensorflow\u001b[39;00m \u001b[38;5;28;01mas\u001b[39;00m \u001b[38;5;21;01mtf\u001b[39;00m\n\u001b[1;32m      2\u001b[0m \u001b[38;5;66;03m#from d2l import tensorflow as d2l\u001b[39;00m\n",
      "\u001b[0;31mModuleNotFoundError\u001b[0m: No module named 'tensorflow'"
     ]
    }
   ],
   "source": [
    "import tensorflow as tf\n",
    "#from d2l import tensorflow as d2l"
   ]
  },
  {
   "cell_type": "code",
   "execution_count": null,
   "metadata": {},
   "outputs": [],
   "source": [
    "import tensorflow as tf\n",
    "from d2l import tensorflow as d2l\n",
    "\n",
    "\n",
    "class Inception(tf.keras.Model):\n",
    "    # `c1`--`c4` are the number of output channels for each path\n",
    "    def __init__(self, c1, c2, c3, c4):\n",
    "        super().__init__()\n",
    "        # Path 1 is a single 1 x 1 convolutional layer\n",
    "        self.p1_1 = tf.keras.layers.Conv2D(c1, 1, activation='relu')\n",
    "        # Path 2 is a 1 x 1 convolutional layer followed by a 3 x 3\n",
    "        # convolutional layer\n",
    "        self.p2_1 = tf.keras.layers.Conv2D(c2[0], 1, activation='relu')\n",
    "        self.p2_2 = tf.keras.layers.Conv2D(c2[1], 3, padding='same',\n",
    "                                           activation='relu')\n",
    "        # Path 3 is a 1 x 1 convolutional layer followed by a 5 x 5\n",
    "        # convolutional layer\n",
    "        self.p3_1 = tf.keras.layers.Conv2D(c3[0], 1, activation='relu')\n",
    "        self.p3_2 = tf.keras.layers.Conv2D(c3[1], 5, padding='same',\n",
    "                                           activation='relu')\n",
    "        # Path 4 is a 3 x 3 maximum pooling layer followed by a 1 x 1\n",
    "        # convolutional layer\n",
    "        self.p4_1 = tf.keras.layers.MaxPool2D(3, 1, padding='same')\n",
    "        self.p4_2 = tf.keras.layers.Conv2D(c4, 1, activation='relu')\n",
    "\n",
    "\n",
    "    def call(self, x):\n",
    "        p1 = self.p1_1(x)\n",
    "        p2 = self.p2_2(self.p2_1(x))\n",
    "        p3 = self.p3_2(self.p3_1(x))\n",
    "        p4 = self.p4_2(self.p4_1(x))\n",
    "        # Concatenate the outputs on the channel dimension\n",
    "        return tf.keras.layers.Concatenate()([p1, p2, p3, p4])"
   ]
  },
  {
   "cell_type": "markdown",
   "metadata": {},
   "source": [
    "## Implement GoogLeNet module by module"
   ]
  },
  {
   "cell_type": "markdown",
   "metadata": {},
   "source": [
    "### Block 1"
   ]
  },
  {
   "cell_type": "code",
   "execution_count": null,
   "metadata": {},
   "outputs": [],
   "source": [
    "# The first module uses a 64-channel  7×7  convolutional layer.\n",
    "def b1():\n",
    "    return tf.keras.models.Sequential([\n",
    "        tf.keras.layers.Conv2D(64, 7, strides=2, padding='same',\n",
    "                               activation='relu'),\n",
    "        tf.keras.layers.MaxPool2D(pool_size=3, strides=2, padding='same')])"
   ]
  },
  {
   "cell_type": "markdown",
   "metadata": {},
   "source": [
    "### Block 2:"
   ]
  },
  {
   "cell_type": "code",
   "execution_count": null,
   "metadata": {},
   "outputs": [],
   "source": [
    "# The second module uses two convolutional layers: first, a 64-channel  1×1  convolutional layer, then a  3×3  \n",
    "# convolutional layer that triples the number of channels. This corresponds to the second path in the Inception block.\n",
    "def b2():\n",
    "    return tf.keras.Sequential([\n",
    "        tf.keras.layers.Conv2D(64, 1, activation='relu'),\n",
    "        tf.keras.layers.Conv2D(192, 3, padding='same', activation='relu'),\n",
    "        tf.keras.layers.MaxPool2D(pool_size=3, strides=2, padding='same')])"
   ]
  },
  {
   "cell_type": "markdown",
   "metadata": {},
   "source": [
    "### Block 3:"
   ]
  },
  {
   "cell_type": "code",
   "execution_count": null,
   "metadata": {},
   "outputs": [],
   "source": [
    "# The third module connects two complete Inception blocks in series.\n",
    "# Maximum pooling between inception blocks reduces the dimensionality.\n",
    "def b3():\n",
    "    return tf.keras.models.Sequential([\n",
    "        Inception(64, (96, 128), (16, 32), 32),\n",
    "        Inception(128, (128, 192), (32, 96), 64),\n",
    "        tf.keras.layers.MaxPool2D(pool_size=3, strides=2, padding='same')])"
   ]
  },
  {
   "cell_type": "markdown",
   "metadata": {},
   "source": [
    "### Block 4:"
   ]
  },
  {
   "cell_type": "code",
   "execution_count": null,
   "metadata": {},
   "outputs": [],
   "source": [
    "# The fourth module is more complicated. It connects five Inception blocks in series\n",
    "# Maximum pooling between inception blocks reduces the dimensionality.\n",
    "def b4():\n",
    "    return tf.keras.Sequential([\n",
    "        Inception(192, (96, 208), (16, 48), 64),\n",
    "        Inception(160, (112, 224), (24, 64), 64),\n",
    "        Inception(128, (128, 256), (24, 64), 64),\n",
    "        Inception(112, (144, 288), (32, 64), 64),\n",
    "        Inception(256, (160, 320), (32, 128), 128),\n",
    "        tf.keras.layers.MaxPool2D(pool_size=3, strides=2, padding='same')])"
   ]
  },
  {
   "cell_type": "markdown",
   "metadata": {},
   "source": [
    "### Block 5:"
   ]
  },
  {
   "cell_type": "code",
   "execution_count": null,
   "metadata": {},
   "outputs": [],
   "source": [
    "# The fifth module has two Inception blocks and is followed by the output layer.\n",
    "# This block uses the global average pooling layer to change the height and width of each channel to 1\n",
    "# turn the output into a two-dimensional array followed by a fully-connected layer whose number of outputs is the number of label classes.\n",
    "def b5():\n",
    "    return tf.keras.Sequential([\n",
    "        Inception(256, (160, 320), (32, 128), 128),\n",
    "        Inception(384, (192, 384), (48, 128), 128),\n",
    "        tf.keras.layers.GlobalAvgPool2D(),\n",
    "        tf.keras.layers.Flatten()\n",
    "    ])\n",
    "# Recall that this has to be a function that will be passed to\n",
    "# `d2l.train_ch6()` so that model building/compiling need to be within\n",
    "# `strategy.scope()` in order to utilize the CPU/GPU devices that we have"
   ]
  },
  {
   "cell_type": "markdown",
   "metadata": {},
   "source": [
    "# Define final model:"
   ]
  },
  {
   "cell_type": "code",
   "execution_count": null,
   "metadata": {},
   "outputs": [],
   "source": [
    "# Change Outout layer to number of label classes!\n",
    "def googlenet():\n",
    "    return tf.keras.Sequential([b1(), b2(), b3(), b4(), b5(),\n",
    "                                tf.keras.layers.Dense(10)])"
   ]
  }
 ],
 "metadata": {
  "kernelspec": {
   "display_name": "Python 3",
   "language": "python",
   "name": "python3"
  },
  "language_info": {
   "codemirror_mode": {
    "name": "ipython",
    "version": 3
   },
   "file_extension": ".py",
   "mimetype": "text/x-python",
   "name": "python",
   "nbconvert_exporter": "python",
   "pygments_lexer": "ipython3",
   "version": "3.8.3"
  }
 },
 "nbformat": 4,
 "nbformat_minor": 2
}
