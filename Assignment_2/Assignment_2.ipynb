{
 "cells": [
  {
   "cell_type": "markdown",
   "metadata": {},
   "source": []
  },
  {
   "cell_type": "markdown",
   "metadata": {},
   "source": [
    "# Assignment 2"
   ]
  },
  {
   "cell_type": "markdown",
   "metadata": {},
   "source": [
    "## Question 1"
   ]
  },
  {
   "cell_type": "code",
   "execution_count": 72,
   "metadata": {},
   "outputs": [],
   "source": [
    "import pandas as pd\n",
    "import numpy as np\n",
    "\n",
    "import warnings\n",
    "warnings.filterwarnings(\"ignore\", category=FutureWarning)\n",
    "\n",
    "from sklearn import metrics\n",
    "from sklearn.svm import SVC\n",
    "from sklearn.model_selection import RandomizedSearchCV, GridSearchCV, train_test_split, cross_validate\n",
    "from sklearn.metrics import confusion_matrix, accuracy_score, classification_report\n",
    "import matplotlib.pyplot as plt\n",
    "import seaborn as sns\n",
    "from sklearn.ensemble import RandomForestClassifier"
   ]
  },
  {
   "cell_type": "code",
   "execution_count": 25,
   "metadata": {},
   "outputs": [],
   "source": [
    "data = pd.read_csv(\"/Users/jonathan/Library/Mobile Documents/com~apple~CloudDocs/Master/2_Semester/ML/Assignments/machine_learning/Assignment_2/data.csv\")\n"
   ]
  },
  {
   "cell_type": "code",
   "execution_count": 29,
   "metadata": {},
   "outputs": [
    {
     "name": "stdout",
     "output_type": "stream",
     "text": [
      "<class 'pandas.core.frame.DataFrame'>\n",
      "RangeIndex: 10000 entries, 0 to 9999\n",
      "Data columns (total 83 columns):\n",
      " #   Column         Non-Null Count  Dtype \n",
      "---  ------         --------------  ----- \n",
      " 0   Unnamed: 0     10000 non-null  object\n",
      " 1   Addthis        10000 non-null  int64 \n",
      " 2   Bebo           10000 non-null  int64 \n",
      " 3   Blogcatalog    10000 non-null  int64 \n",
      " 4   Blogger        10000 non-null  int64 \n",
      " 5   Buddymedia     10000 non-null  int64 \n",
      " 6   Cnet           10000 non-null  int64 \n",
      " 7   Conduit        10000 non-null  int64 \n",
      " 8   Customerlobby  10000 non-null  int64 \n",
      " 9   Delicious      10000 non-null  int64 \n",
      " 10  Digg           10000 non-null  int64 \n",
      " 11  Diigo          10000 non-null  object\n",
      " 12  Docs           10000 non-null  int64 \n",
      " 13  Docstoc        10000 non-null  int64 \n",
      " 14  Download       10000 non-null  int64 \n",
      " 15  Dropbox        10000 non-null  int64 \n",
      " 16  Drupal         10000 non-null  int64 \n",
      " 17  Epinions       10000 non-null  int64 \n",
      " 18  Evernote       10000 non-null  int64 \n",
      " 19  Facebook       10000 non-null  int64 \n",
      " 20  Faves          10000 non-null  int64 \n",
      " 21  Feedburner     10000 non-null  int64 \n",
      " 22  Flickr         10000 non-null  int64 \n",
      " 23  Foursquare     10000 non-null  int64 \n",
      " 24  Friendfeed     10000 non-null  int64 \n",
      " 25  Hootsuite      10000 non-null  int64 \n",
      " 26  Joomla         10000 non-null  int64 \n",
      " 27  Jumptags       10000 non-null  int64 \n",
      " 28  Kaboodle       10000 non-null  int64 \n",
      " 29  Kickapps       10000 non-null  int64 \n",
      " 30  Linkedin       10000 non-null  int64 \n",
      " 31  Lithium        10000 non-null  int64 \n",
      " 32  Livejournal    10000 non-null  int64 \n",
      " 33  Mashable       10000 non-null  int64 \n",
      " 34  Meetup         10000 non-null  int64 \n",
      " 35  Metacafe       10000 non-null  int64 \n",
      " 36  Mixx           10000 non-null  int64 \n",
      " 37  Mouthshut      10000 non-null  int64 \n",
      " 38  Multiply       10000 non-null  int64 \n",
      " 39  Mybloglog      10000 non-null  int64 \n",
      " 40  Myspace        10000 non-null  int64 \n",
      " 41  Netvibes       10000 non-null  int64 \n",
      " 42  Newsvine       10000 non-null  int64 \n",
      " 43  Ning           10000 non-null  int64 \n",
      " 44  Orkut          10000 non-null  int64 \n",
      " 45  Photobucket    10000 non-null  int64 \n",
      " 46  Ping           10000 non-null  int64 \n",
      " 47  Pinterest      10000 non-null  int64 \n",
      " 48  Plaxo          10000 non-null  int64 \n",
      " 49  Plurk          10000 non-null  int64 \n",
      " 50  Posterous      10000 non-null  int64 \n",
      " 51  Propeller      10000 non-null  int64 \n",
      " 52  Radian6        10000 non-null  int64 \n",
      " 53  Reddit         10000 non-null  int64 \n",
      " 54  Screencast     10000 non-null  int64 \n",
      " 55  Scribd         10000 non-null  int64 \n",
      " 56  Sharethis      10000 non-null  int64 \n",
      " 57  Slashdot       10000 non-null  int64 \n",
      " 58  Sliderocket    10000 non-null  int64 \n",
      " 59  Slideshare     10000 non-null  int64 \n",
      " 60  Squidoo        10000 non-null  int64 \n",
      " 61  Startaid       10000 non-null  int64 \n",
      " 62  Stumbleupon    10000 non-null  int64 \n",
      " 63  Sysomos        10000 non-null  int64 \n",
      " 64  Technorati     10000 non-null  int64 \n",
      " 65  Thisnext       10000 non-null  int64 \n",
      " 66  Tumblr         10000 non-null  int64 \n",
      " 67  Tweetdeck      10000 non-null  int64 \n",
      " 68  Twine          10000 non-null  int64 \n",
      " 69  Twitter        10000 non-null  int64 \n",
      " 70  Typepad        10000 non-null  int64 \n",
      " 71  Ubertwitter    10000 non-null  int64 \n",
      " 72  Viadeo         10000 non-null  int64 \n",
      " 73  Vimeo          10000 non-null  int64 \n",
      " 74  Vocus          10000 non-null  int64 \n",
      " 75  Wetpaint       10000 non-null  int64 \n",
      " 76  Wordpress      10000 non-null  int64 \n",
      " 77  Xanga          10000 non-null  int64 \n",
      " 78  Yelp           10000 non-null  int64 \n",
      " 79  Yfrog          10000 non-null  int64 \n",
      " 80  Youtube        10000 non-null  int64 \n",
      " 81  Yuku           10000 non-null  int64 \n",
      " 82  Click          10000 non-null  int64 \n",
      "dtypes: int64(81), object(2)\n",
      "memory usage: 6.3+ MB\n"
     ]
    }
   ],
   "source": [
    "data.info()"
   ]
  },
  {
   "cell_type": "code",
   "execution_count": 33,
   "metadata": {},
   "outputs": [
    {
     "data": {
      "text/plain": [
       "0                            0\n",
       "1                            0\n",
       "2                            0\n",
       "3       Error: value not found\n",
       "4                            0\n",
       "                 ...          \n",
       "9995                         0\n",
       "9996                         0\n",
       "9997                         0\n",
       "9998                         0\n",
       "9999                         0\n",
       "Name: Diigo, Length: 10000, dtype: object"
      ]
     },
     "execution_count": 33,
     "metadata": {},
     "output_type": "execute_result"
    }
   ],
   "source": [
    "data['Diigo']\n"
   ]
  },
  {
   "cell_type": "code",
   "execution_count": 34,
   "metadata": {},
   "outputs": [
    {
     "name": "stdout",
     "output_type": "stream",
     "text": [
      "X - Training Data Shape: (8000, 80)\n",
      "X - Testing Data Shape: (2000, 80)\n"
     ]
    }
   ],
   "source": [
    "#split the data\n",
    "#drop Diigo as column has bad data quality, contains \"Error: value not found\" several timey\n",
    "X = data.drop(['Unnamed: 0','Click','Diigo'], axis=1)\n",
    "Y = data['Click']\n",
    "X_train, X_test, y_train, y_test = train_test_split(X, Y, test_size=0.2, random_state = 42)\n",
    "\n",
    "print(\"X - Training Data Shape:\", X_train.shape)\n",
    "print(\"X - Testing Data Shape:\", X_test.shape)"
   ]
  },
  {
   "cell_type": "markdown",
   "metadata": {},
   "source": [
    "### 1.1 Support Vector Machine"
   ]
  },
  {
   "cell_type": "code",
   "execution_count": 61,
   "metadata": {},
   "outputs": [
    {
     "name": "stdout",
     "output_type": "stream",
     "text": [
      "accuracy_score: 0.951 \n",
      "\n",
      "Classifiaction Report:\n",
      "               precision    recall  f1-score   support\n",
      "\n",
      "           0       0.95      0.99      0.97      1683\n",
      "           1       0.96      0.72      0.82       317\n",
      "\n",
      "    accuracy                           0.95      2000\n",
      "   macro avg       0.95      0.86      0.90      2000\n",
      "weighted avg       0.95      0.95      0.95      2000\n",
      "\n",
      "Cross validation train_score 0.9614687500000001\n",
      "Cross validation test_score [0.95875  0.955625 0.959375 0.949375 0.951875]\n",
      "\n",
      "Confusion Matrix\n",
      "\n"
     ]
    },
    {
     "data": {
      "image/png": "[encoded data removed]",
      "text/plain": [
       "<Figure size 640x480 with 1 Axes>"
      ]
     },
     "metadata": {},
     "output_type": "display_data"
    }
   ],
   "source": [
    "import warnings\n",
    "warnings.filterwarnings(\"ignore\", category=FutureWarning)\n",
    "\n",
    "svc = SVC(kernel='linear',class_weight='balanced',random_state=42)\n",
    "\n",
    "svc.fit(X_train, y_train)\n",
    "svc_pred = svc.predict(X_test)\n",
    "\n",
    "#Accuracy Score\n",
    "print('accuracy_score:',accuracy_score(svc_pred, y_test),\"\\n\")\n",
    "\n",
    "#Calssifiaction Report\n",
    "print(\"Classifiaction Report:\\n\",classification_report(svc_pred, y_test))\n",
    "\n",
    "#Cross Validation\n",
    "cross_val_score_svc = cross_validate(svc, X_train, y_train,cv = 5,return_train_score=True)\n",
    "print('Cross validation train_score',cross_val_score_svc['train_score'].mean())\n",
    "print('Cross validation test_score',cross_val_score_svc['test_score'])\n",
    "\n",
    "#heatmap confusion matrix\n",
    "print(\"\\nConfusion Matrix\\n\")\n",
    "mat = confusion_matrix(svc_pred,y_test)\n",
    "sns.heatmap(mat.T, square=True, annot=True, fmt='d', cbar=False)\n",
    "plt.xlabel('true label')\n",
    "plt.ylabel('predicted label');"
   ]
  },
  {
   "cell_type": "markdown",
   "metadata": {},
   "source": [
    "### 1.1 Random Forest"
   ]
  },
  {
   "cell_type": "code",
   "execution_count": 71,
   "metadata": {},
   "outputs": [
    {
     "name": "stdout",
     "output_type": "stream",
     "text": [
      "              precision    recall  f1-score   support\n",
      "\n",
      "           0       1.00      0.88      0.94      1996\n",
      "           1       0.02      1.00      0.03         4\n",
      "\n",
      "    accuracy                           0.88      2000\n",
      "   macro avg       0.51      0.94      0.49      2000\n",
      "weighted avg       1.00      0.88      0.94      2000\n",
      "\n"
     ]
    },
    {
     "data": {
      "text/plain": [
       "<Axes: >"
      ]
     },
     "execution_count": 71,
     "metadata": {},
     "output_type": "execute_result"
    },
    {
     "data": {
      "image/png": "[encoded data removed]",
      "text/plain": [
       "<Figure size 640x480 with 1 Axes>"
      ]
     },
     "metadata": {},
     "output_type": "display_data"
    }
   ],
   "source": [
    "model = RandomForestClassifier(random_state=42)\n",
    "model.fit(X_train, y_train)\n",
    "ypred = model.predict(X_test)\n",
    "\n",
    "#Print classification report for this classifier:\n",
    "print(metrics.classification_report(ypred, y_test))\n",
    "\n",
    "#confusion matrix as heatmap\n",
    "mat = confusion_matrix(y_test, ypred)\n",
    "sns.heatmap(mat.T, square=True, annot=True, fmt='d', cbar=False)\n"
   ]
  },
  {
   "cell_type": "markdown",
   "metadata": {},
   "source": [
    "### 1.2 Feature Importance"
   ]
  },
  {
   "cell_type": "code",
   "execution_count": 94,
   "metadata": {},
   "outputs": [
    {
     "ename": "NotFittedError",
     "evalue": "This RandomForestClassifier instance is not fitted yet. Call 'fit' with appropriate arguments before using this estimator.",
     "output_type": "error",
     "traceback": [
      "\u001b[0;31m---------------------------------------------------------------------------\u001b[0m",
      "\u001b[0;31mNotFittedError\u001b[0m                            Traceback (most recent call last)",
      "Cell \u001b[0;32mIn[94], line 24\u001b[0m\n\u001b[1;32m     21\u001b[0m     \u001b[38;5;28;01mreturn\u001b[39;00m top_features\n\u001b[1;32m     23\u001b[0m model \u001b[38;5;241m=\u001b[39m RandomForestClassifier(random_state\u001b[38;5;241m=\u001b[39m\u001b[38;5;241m42\u001b[39m)\n\u001b[0;32m---> 24\u001b[0m top_features \u001b[38;5;241m=\u001b[39m \u001b[43mfind_top_features\u001b[49m\u001b[43m(\u001b[49m\u001b[43mmodel\u001b[49m\u001b[43m,\u001b[49m\u001b[43m \u001b[49m\u001b[43mX_train\u001b[49m\u001b[38;5;241;43m.\u001b[39;49m\u001b[43mcolumns\u001b[49m\u001b[43m,\u001b[49m\u001b[43m \u001b[49m\u001b[43mn\u001b[49m\u001b[38;5;241;43m=\u001b[39;49m\u001b[38;5;241;43m5\u001b[39;49m\u001b[43m)\u001b[49m\n",
      "Cell \u001b[0;32mIn[94], line 2\u001b[0m, in \u001b[0;36mfind_top_features\u001b[0;34m(model, feature_names, n)\u001b[0m\n\u001b[1;32m      1\u001b[0m \u001b[38;5;28;01mdef\u001b[39;00m \u001b[38;5;21mfind_top_features\u001b[39m(model, feature_names, n\u001b[38;5;241m=\u001b[39m\u001b[38;5;241m5\u001b[39m):\n\u001b[0;32m----> 2\u001b[0m     importances \u001b[38;5;241m=\u001b[39m \u001b[43mmodel\u001b[49m\u001b[38;5;241;43m.\u001b[39;49m\u001b[43mfeature_importances_\u001b[49m\n\u001b[1;32m      3\u001b[0m     indices \u001b[38;5;241m=\u001b[39m np\u001b[38;5;241m.\u001b[39margsort(importances)[::\u001b[38;5;241m-\u001b[39m\u001b[38;5;241m1\u001b[39m]\n\u001b[1;32m      4\u001b[0m     top_features \u001b[38;5;241m=\u001b[39m [feature_names[i] \u001b[38;5;28;01mfor\u001b[39;00m i \u001b[38;5;129;01min\u001b[39;00m indices[:n]]\n",
      "File \u001b[0;32m/Library/Frameworks/Python.framework/Versions/3.10/lib/python3.10/site-packages/sklearn/ensemble/_forest.py:631\u001b[0m, in \u001b[0;36mBaseForest.feature_importances_\u001b[0;34m(self)\u001b[0m\n\u001b[1;32m    610\u001b[0m \u001b[38;5;129m@property\u001b[39m\n\u001b[1;32m    611\u001b[0m \u001b[38;5;28;01mdef\u001b[39;00m \u001b[38;5;21mfeature_importances_\u001b[39m(\u001b[38;5;28mself\u001b[39m):\n\u001b[1;32m    612\u001b[0m \u001b[38;5;250m    \u001b[39m\u001b[38;5;124;03m\"\"\"\u001b[39;00m\n\u001b[1;32m    613\u001b[0m \u001b[38;5;124;03m    The impurity-based feature importances.\u001b[39;00m\n\u001b[1;32m    614\u001b[0m \n\u001b[0;32m   (...)\u001b[0m\n\u001b[1;32m    629\u001b[0m \u001b[38;5;124;03m        array of zeros.\u001b[39;00m\n\u001b[1;32m    630\u001b[0m \u001b[38;5;124;03m    \"\"\"\u001b[39;00m\n\u001b[0;32m--> 631\u001b[0m     \u001b[43mcheck_is_fitted\u001b[49m\u001b[43m(\u001b[49m\u001b[38;5;28;43mself\u001b[39;49m\u001b[43m)\u001b[49m\n\u001b[1;32m    633\u001b[0m     all_importances \u001b[38;5;241m=\u001b[39m Parallel(n_jobs\u001b[38;5;241m=\u001b[39m\u001b[38;5;28mself\u001b[39m\u001b[38;5;241m.\u001b[39mn_jobs, prefer\u001b[38;5;241m=\u001b[39m\u001b[38;5;124m\"\u001b[39m\u001b[38;5;124mthreads\u001b[39m\u001b[38;5;124m\"\u001b[39m)(\n\u001b[1;32m    634\u001b[0m         delayed(\u001b[38;5;28mgetattr\u001b[39m)(tree, \u001b[38;5;124m\"\u001b[39m\u001b[38;5;124mfeature_importances_\u001b[39m\u001b[38;5;124m\"\u001b[39m)\n\u001b[1;32m    635\u001b[0m         \u001b[38;5;28;01mfor\u001b[39;00m tree \u001b[38;5;129;01min\u001b[39;00m \u001b[38;5;28mself\u001b[39m\u001b[38;5;241m.\u001b[39mestimators_\n\u001b[1;32m    636\u001b[0m         \u001b[38;5;28;01mif\u001b[39;00m tree\u001b[38;5;241m.\u001b[39mtree_\u001b[38;5;241m.\u001b[39mnode_count \u001b[38;5;241m>\u001b[39m \u001b[38;5;241m1\u001b[39m\n\u001b[1;32m    637\u001b[0m     )\n\u001b[1;32m    639\u001b[0m     \u001b[38;5;28;01mif\u001b[39;00m \u001b[38;5;129;01mnot\u001b[39;00m all_importances:\n",
      "File \u001b[0;32m/Library/Frameworks/Python.framework/Versions/3.10/lib/python3.10/site-packages/sklearn/utils/validation.py:1341\u001b[0m, in \u001b[0;36mcheck_is_fitted\u001b[0;34m(estimator, attributes, msg, all_or_any)\u001b[0m\n\u001b[1;32m   1336\u001b[0m     fitted \u001b[38;5;241m=\u001b[39m [\n\u001b[1;32m   1337\u001b[0m         v \u001b[38;5;28;01mfor\u001b[39;00m v \u001b[38;5;129;01min\u001b[39;00m \u001b[38;5;28mvars\u001b[39m(estimator) \u001b[38;5;28;01mif\u001b[39;00m v\u001b[38;5;241m.\u001b[39mendswith(\u001b[38;5;124m\"\u001b[39m\u001b[38;5;124m_\u001b[39m\u001b[38;5;124m\"\u001b[39m) \u001b[38;5;129;01mand\u001b[39;00m \u001b[38;5;129;01mnot\u001b[39;00m v\u001b[38;5;241m.\u001b[39mstartswith(\u001b[38;5;124m\"\u001b[39m\u001b[38;5;124m__\u001b[39m\u001b[38;5;124m\"\u001b[39m)\n\u001b[1;32m   1338\u001b[0m     ]\n\u001b[1;32m   1340\u001b[0m \u001b[38;5;28;01mif\u001b[39;00m \u001b[38;5;129;01mnot\u001b[39;00m fitted:\n\u001b[0;32m-> 1341\u001b[0m     \u001b[38;5;28;01mraise\u001b[39;00m NotFittedError(msg \u001b[38;5;241m%\u001b[39m {\u001b[38;5;124m\"\u001b[39m\u001b[38;5;124mname\u001b[39m\u001b[38;5;124m\"\u001b[39m: \u001b[38;5;28mtype\u001b[39m(estimator)\u001b[38;5;241m.\u001b[39m\u001b[38;5;18m__name__\u001b[39m})\n",
      "\u001b[0;31mNotFittedError\u001b[0m: This RandomForestClassifier instance is not fitted yet. Call 'fit' with appropriate arguments before using this estimator."
     ]
    }
   ],
   "source": [
    "def find_top_features(model, feature_names, n=5):\n",
    "    importances = model.feature_importances_\n",
    "    indices = np.argsort(importances)[::-1]\n",
    "    top_features = [feature_names[i] for i in indices[:n]]\n",
    "    top_importances = importances[indices][:n]\n",
    "    \n",
    "    # Plot feature importances\n",
    "    plt.figure(figsize=(10, 6))\n",
    "    plt.bar(top_features, top_importances)\n",
    "    plt.xlabel('Features')\n",
    "    plt.ylabel('Importance')\n",
    "    plt.title('Top {} Features'.format(n))\n",
    "    plt.xticks(rotation=45)\n",
    "    \n",
    "    # Add value labels to the bar chart\n",
    "    for i, v in enumerate(top_importances):\n",
    "        plt.text(i, v, str(round(v, 4)), ha='center', va='bottom')\n",
    "    \n",
    "    plt.show()\n",
    "    \n",
    "    return top_features\n",
    "\n",
    "model = RandomForestClassifier(random_state=42)\n",
    "top_features = find_top_features(model, X_train.columns, n=5)\n"
   ]
  },
  {
   "cell_type": "code",
   "execution_count": 95,
   "metadata": {},
   "outputs": [
    {
     "name": "stdout",
     "output_type": "stream",
     "text": [
      "['Customerlobby', 'Thisnext', 'Lithium', 'Kickapps', 'Mybloglog']\n"
     ]
    }
   ],
   "source": [
    "def find_top_features(model, feature_names, n=5):\n",
    "    if hasattr(model, 'coef_'):\n",
    "        coefficients = model.coef_\n",
    "        indices = np.argsort(np.abs(coefficients[0]))[::-1]\n",
    "        top_features = [feature_names[i] for i in indices[:n]]\n",
    "        return top_features\n",
    "\n",
    "    else:\n",
    "        print(\"Das Modell hat kein Attribut 'coef_'.\")\n",
    "        return []\n",
    "\n",
    "model = SVC(kernel='linear', class_weight='balanced', random_state=42)\n",
    "print(top_features)"
   ]
  }
 ],
 "metadata": {
  "kernelspec": {
   "display_name": "Python 3",
   "language": "python",
   "name": "python3"
  },
  "language_info": {
   "codemirror_mode": {
    "name": "ipython",
    "version": 3
   },
   "file_extension": ".py",
   "mimetype": "text/x-python",
   "name": "python",
   "nbconvert_exporter": "python",
   "pygments_lexer": "ipython3",
   "version": "3.10.0"
  }
 },
 "nbformat": 4,
 "nbformat_minor": 2
}
