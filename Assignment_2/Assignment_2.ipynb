{
 "cells": [
  {
   "cell_type": "markdown",
   "metadata": {},
   "source": []
  },
  {
   "cell_type": "markdown",
   "metadata": {},
   "source": [
    "# Assignment 2"
   ]
  },
  {
   "cell_type": "markdown",
   "metadata": {},
   "source": [
    "## Question 1"
   ]
  },
  {
   "cell_type": "code",
   "execution_count": 1,
   "metadata": {},
   "outputs": [],
   "source": [
    "import pandas as pd\n",
    "import numpy as np\n",
    "\n",
    "import warnings\n",
    "warnings.filterwarnings(\"ignore\", category=FutureWarning)\n",
    "\n",
    "from sklearn import metrics\n",
    "from sklearn.svm import SVC\n",
    "from sklearn.preprocessing import StandardScaler\n",
    "from sklearn.model_selection import RandomizedSearchCV, GridSearchCV, train_test_split, cross_validate\n",
    "from sklearn.metrics import confusion_matrix, accuracy_score, classification_report\n",
    "import matplotlib.pyplot as plt\n",
    "import seaborn as sns\n",
    "from sklearn.ensemble import RandomForestClassifier"
   ]
  },
  {
   "cell_type": "code",
   "execution_count": 2,
   "metadata": {},
   "outputs": [],
   "source": [
    "#load the data:\n",
    "data = pd.read_csv(\"data.csv\")\n"
   ]
  },
  {
   "cell_type": "code",
   "execution_count": 3,
   "metadata": {},
   "outputs": [
    {
     "name": "stdout",
     "output_type": "stream",
     "text": [
      "<class 'pandas.core.frame.DataFrame'>\n",
      "RangeIndex: 10000 entries, 0 to 9999\n",
      "Data columns (total 83 columns):\n",
      " #   Column         Non-Null Count  Dtype \n",
      "---  ------         --------------  ----- \n",
      " 0   Unnamed: 0     10000 non-null  object\n",
      " 1   Addthis        10000 non-null  int64 \n",
      " 2   Bebo           10000 non-null  int64 \n",
      " 3   Blogcatalog    10000 non-null  int64 \n",
      " 4   Blogger        10000 non-null  int64 \n",
      " 5   Buddymedia     10000 non-null  int64 \n",
      " 6   Cnet           10000 non-null  int64 \n",
      " 7   Conduit        10000 non-null  int64 \n",
      " 8   Customerlobby  10000 non-null  int64 \n",
      " 9   Delicious      10000 non-null  int64 \n",
      " 10  Digg           10000 non-null  int64 \n",
      " 11  Diigo          10000 non-null  object\n",
      " 12  Docs           10000 non-null  int64 \n",
      " 13  Docstoc        10000 non-null  int64 \n",
      " 14  Download       10000 non-null  int64 \n",
      " 15  Dropbox        10000 non-null  int64 \n",
      " 16  Drupal         10000 non-null  int64 \n",
      " 17  Epinions       10000 non-null  int64 \n",
      " 18  Evernote       10000 non-null  int64 \n",
      " 19  Facebook       10000 non-null  int64 \n",
      " 20  Faves          10000 non-null  int64 \n",
      " 21  Feedburner     10000 non-null  int64 \n",
      " 22  Flickr         10000 non-null  int64 \n",
      " 23  Foursquare     10000 non-null  int64 \n",
      " 24  Friendfeed     10000 non-null  int64 \n",
      " 25  Hootsuite      10000 non-null  int64 \n",
      " 26  Joomla         10000 non-null  int64 \n",
      " 27  Jumptags       10000 non-null  int64 \n",
      " 28  Kaboodle       10000 non-null  int64 \n",
      " 29  Kickapps       10000 non-null  int64 \n",
      " 30  Linkedin       10000 non-null  int64 \n",
      " 31  Lithium        10000 non-null  int64 \n",
      " 32  Livejournal    10000 non-null  int64 \n",
      " 33  Mashable       10000 non-null  int64 \n",
      " 34  Meetup         10000 non-null  int64 \n",
      " 35  Metacafe       10000 non-null  int64 \n",
      " 36  Mixx           10000 non-null  int64 \n",
      " 37  Mouthshut      10000 non-null  int64 \n",
      " 38  Multiply       10000 non-null  int64 \n",
      " 39  Mybloglog      10000 non-null  int64 \n",
      " 40  Myspace        10000 non-null  int64 \n",
      " 41  Netvibes       10000 non-null  int64 \n",
      " 42  Newsvine       10000 non-null  int64 \n",
      " 43  Ning           10000 non-null  int64 \n",
      " 44  Orkut          10000 non-null  int64 \n",
      " 45  Photobucket    10000 non-null  int64 \n",
      " 46  Ping           10000 non-null  int64 \n",
      " 47  Pinterest      10000 non-null  int64 \n",
      " 48  Plaxo          10000 non-null  int64 \n",
      " 49  Plurk          10000 non-null  int64 \n",
      " 50  Posterous      10000 non-null  int64 \n",
      " 51  Propeller      10000 non-null  int64 \n",
      " 52  Radian6        10000 non-null  int64 \n",
      " 53  Reddit         10000 non-null  int64 \n",
      " 54  Screencast     10000 non-null  int64 \n",
      " 55  Scribd         10000 non-null  int64 \n",
      " 56  Sharethis      10000 non-null  int64 \n",
      " 57  Slashdot       10000 non-null  int64 \n",
      " 58  Sliderocket    10000 non-null  int64 \n",
      " 59  Slideshare     10000 non-null  int64 \n",
      " 60  Squidoo        10000 non-null  int64 \n",
      " 61  Startaid       10000 non-null  int64 \n",
      " 62  Stumbleupon    10000 non-null  int64 \n",
      " 63  Sysomos        10000 non-null  int64 \n",
      " 64  Technorati     10000 non-null  int64 \n",
      " 65  Thisnext       10000 non-null  int64 \n",
      " 66  Tumblr         10000 non-null  int64 \n",
      " 67  Tweetdeck      10000 non-null  int64 \n",
      " 68  Twine          10000 non-null  int64 \n",
      " 69  Twitter        10000 non-null  int64 \n",
      " 70  Typepad        10000 non-null  int64 \n",
      " 71  Ubertwitter    10000 non-null  int64 \n",
      " 72  Viadeo         10000 non-null  int64 \n",
      " 73  Vimeo          10000 non-null  int64 \n",
      " 74  Vocus          10000 non-null  int64 \n",
      " 75  Wetpaint       10000 non-null  int64 \n",
      " 76  Wordpress      10000 non-null  int64 \n",
      " 77  Xanga          10000 non-null  int64 \n",
      " 78  Yelp           10000 non-null  int64 \n",
      " 79  Yfrog          10000 non-null  int64 \n",
      " 80  Youtube        10000 non-null  int64 \n",
      " 81  Yuku           10000 non-null  int64 \n",
      " 82  Click          10000 non-null  int64 \n",
      "dtypes: int64(81), object(2)\n",
      "memory usage: 6.3+ MB\n"
     ]
    }
   ],
   "source": [
    "# Explore the data:\n",
    "data.info()"
   ]
  },
  {
   "cell_type": "code",
   "execution_count": 4,
   "metadata": {},
   "outputs": [
    {
     "data": {
      "text/plain": [
       "Diigo\n",
       "0                         8842\n",
       "Error: value not found     642\n",
       "1                          332\n",
       "2                          183\n",
       "3                            1\n",
       "Name: count, dtype: int64"
      ]
     },
     "execution_count": 4,
     "metadata": {},
     "output_type": "execute_result"
    }
   ],
   "source": [
    "#Explore column Diigo as data type is object\n",
    "data['Diigo'].value_counts()\n"
   ]
  },
  {
   "cell_type": "code",
   "execution_count": 3,
   "metadata": {},
   "outputs": [],
   "source": [
    "#drop Diigo as column has bad data quality, contains \"Error: value not found\" several timey\n",
    "data.drop('Diigo', axis=1, inplace=True)"
   ]
  },
  {
   "cell_type": "code",
   "execution_count": 5,
   "metadata": {},
   "outputs": [
    {
     "name": "stdout",
     "output_type": "stream",
     "text": [
      "Addthis        0\n",
      "Bebo           0\n",
      "Blogcatalog    0\n",
      "Blogger        0\n",
      "Buddymedia     0\n",
      "              ..\n",
      "Xanga          0\n",
      "Yelp           0\n",
      "Yfrog          0\n",
      "Youtube        0\n",
      "Yuku           0\n",
      "Length: 80, dtype: int64\n"
     ]
    }
   ],
   "source": [
    "# Check for negative values in releavnt columns:\n",
    "negative_counts = (data.iloc[:, 1:-1] < 0).sum()\n",
    "print(negative_counts)\n"
   ]
  },
  {
   "cell_type": "code",
   "execution_count": 6,
   "metadata": {},
   "outputs": [],
   "source": [
    "# Filter all values above 1000 views as the indicate outliers (excluding the first column)\n",
    "# Create mask for filtering\n",
    "mask = (data.iloc[:, 1:] > 1000).any(axis=1)\n",
    "\n",
    "# Apply boolean mask to data\n",
    "data = data.drop(data[mask].index)"
   ]
  },
  {
   "cell_type": "code",
   "execution_count": 7,
   "metadata": {},
   "outputs": [
    {
     "name": "stdout",
     "output_type": "stream",
     "text": [
      "X - Training Data Shape: (7999, 80)\n",
      "X - Testing Data Shape: (2000, 80)\n"
     ]
    }
   ],
   "source": [
    "# Create X and Y datasets for training\n",
    "X = data.drop(['Unnamed: 0', 'Click'], axis=1)\n",
    "Y = data['Click']\n",
    "X_train, X_test, y_train, y_test = train_test_split(X, Y, test_size=0.2, random_state = 42)\n",
    "\n",
    "print(\"X - Training Data Shape:\", X_train.shape)\n",
    "print(\"X - Testing Data Shape:\", X_test.shape)"
   ]
  },
  {
   "cell_type": "code",
   "execution_count": 8,
   "metadata": {},
   "outputs": [
    {
     "name": "stdout",
     "output_type": "stream",
     "text": [
      "X - Training Data Shape: (7999, 80)\n",
      "X - Testing Data Shape: (2000, 80)\n"
     ]
    }
   ],
   "source": [
    "# Normalize the data for further use in SVM and random forest\n",
    "scaler = StandardScaler()\n",
    "\n",
    "# Normalize the training data\n",
    "X_train_normalized = scaler.fit_transform(X_train)\n",
    "\n",
    "# Normalize the testing data\n",
    "X_test_normalized = scaler.transform(X_test)\n",
    "\n",
    "#Verfiy size of the data:\n",
    "print(\"X - Training Data Shape:\", X_train_normalized.shape)\n",
    "print(\"X - Testing Data Shape:\", X_test_normalized.shape)"
   ]
  },
  {
   "cell_type": "markdown",
   "metadata": {},
   "source": [
    "### 1.1 Support Vector Machine"
   ]
  },
  {
   "cell_type": "code",
   "execution_count": 10,
   "metadata": {},
   "outputs": [
    {
     "name": "stdout",
     "output_type": "stream",
     "text": [
      "accuracy_score: 0.961 \n",
      "\n",
      "Classifiaction Report:\n",
      "               precision    recall  f1-score   support\n",
      "\n",
      "           0       0.96      1.00      0.98      1706\n",
      "           1       0.97      0.76      0.85       294\n",
      "\n",
      "    accuracy                           0.96      2000\n",
      "   macro avg       0.96      0.88      0.91      2000\n",
      "weighted avg       0.96      0.96      0.96      2000\n",
      "\n",
      "Cross validation train_score 0.969527455461791\n",
      "Cross validation test_score [0.96       0.97       0.9575     0.965625   0.96060038]\n",
      "\n",
      "Confusion Matrix\n",
      "\n"
     ]
    },
    {
     "data": {
      "image/png": "[encoded data removed]",
      "text/plain": [
       "<Figure size 640x480 with 1 Axes>"
      ]
     },
     "metadata": {},
     "output_type": "display_data"
    }
   ],
   "source": [
    "import warnings\n",
    "warnings.filterwarnings(\"ignore\", category=FutureWarning)\n",
    "\n",
    "svc = SVC(kernel='linear',class_weight='balanced',random_state=42)\n",
    "\n",
    "svc.fit(X_train_normalized, y_train)\n",
    "svc_pred = svc.predict(X_test_normalized)\n",
    "\n",
    "#Accuracy Score\n",
    "print('accuracy_score:',accuracy_score(svc_pred, y_test),\"\\n\")\n",
    "\n",
    "#Calssifiaction Report\n",
    "print(\"Classifiaction Report:\\n\",classification_report(svc_pred, y_test))\n",
    "\n",
    "#Cross Validation\n",
    "cross_val_score_svc = cross_validate(svc, X_train_normalized, y_train,cv = 5,return_train_score=True)\n",
    "print('Cross validation train_score',cross_val_score_svc['train_score'].mean())\n",
    "print('Cross validation test_score',cross_val_score_svc['test_score'])\n",
    "\n",
    "#heatmap confusion matrix\n",
    "print(\"\\nConfusion Matrix\\n\")\n",
    "mat = confusion_matrix(svc_pred,y_test)\n",
    "sns.heatmap(mat.T, square=True, annot=True, fmt='d', cbar=False)\n",
    "plt.xlabel('true label')\n",
    "plt.ylabel('predicted label');"
   ]
  },
  {
   "cell_type": "markdown",
   "metadata": {},
   "source": [
    "### 1.1 Random Forest"
   ]
  },
  {
   "cell_type": "code",
   "execution_count": 11,
   "metadata": {},
   "outputs": [
    {
     "name": "stdout",
     "output_type": "stream",
     "text": [
      "accuracy_score: 0.8885 \n",
      "\n",
      "              precision    recall  f1-score   support\n",
      "\n",
      "           0       1.00      0.89      0.94      1993\n",
      "           1       0.03      1.00      0.06         7\n",
      "\n",
      "    accuracy                           0.89      2000\n",
      "   macro avg       0.52      0.94      0.50      2000\n",
      "weighted avg       1.00      0.89      0.94      2000\n",
      "\n",
      "Cross validation train_score 1.0\n",
      "Cross validation test_score [0.87625    0.876875   0.875625   0.875625   0.87742339]\n"
     ]
    },
    {
     "data": {
      "image/png": "[encoded data removed]",
      "text/plain": [
       "<Figure size 640x480 with 1 Axes>"
      ]
     },
     "metadata": {},
     "output_type": "display_data"
    }
   ],
   "source": [
    "model = RandomForestClassifier(random_state=42)\n",
    "model.fit(X_train_normalized, y_train)\n",
    "ypred = model.predict(X_test_normalized)\n",
    "\n",
    "#Accuracy Score\n",
    "print('accuracy_score:',accuracy_score(ypred, y_test),\"\\n\")\n",
    "\n",
    "#Print classification report for this classifier:\n",
    "print(metrics.classification_report(ypred, y_test))\n",
    "\n",
    "#Cross Validation\n",
    "cross_val_score_svc = cross_validate(model, X_train_normalized, y_train,cv = 5,return_train_score=True)\n",
    "print('Cross validation train_score',cross_val_score_svc['train_score'].mean())\n",
    "print('Cross validation test_score',cross_val_score_svc['test_score'])\n",
    "\n",
    "\n",
    "#confusion matrix as heatmap\n",
    "mat = confusion_matrix(y_test, ypred)\n",
    "sns.heatmap(mat.T, square=True, annot=True, fmt='d', cbar=False)\n",
    "plt.xlabel('true label')\n",
    "plt.ylabel('predicted label');\n"
   ]
  },
  {
   "cell_type": "markdown",
   "metadata": {},
   "source": [
    "### 1.2 Feature Importance"
   ]
  },
  {
   "cell_type": "code",
   "execution_count": 12,
   "metadata": {},
   "outputs": [
    {
     "data": {
      "text/plain": [
       "Text(0.5, 1.0, 'Top 5 Features')"
      ]
     },
     "execution_count": 12,
     "metadata": {},
     "output_type": "execute_result"
    },
    {
     "data": {
      "image/png": "[encoded data removed]",
      "text/plain": [
       "<Figure size 640x480 with 1 Axes>"
      ]
     },
     "metadata": {},
     "output_type": "display_data"
    }
   ],
   "source": [
    "# get top 5 features\n",
    "top_features = pd.DataFrame(abs(svc.coef_[0]), index=X.columns, columns=[\"coefficients\"]).nlargest(5, \"coefficients\").sort_values(\"coefficients\", ascending=True)\n",
    "\n",
    "# Plot the top features\n",
    "ax = top_features.plot(kind='barh')\n",
    "\n",
    "# Add coefficient values to the plot\n",
    "for i, v in enumerate(pd.Series(abs(svc.coef_[0]), index=X.columns).nlargest(5).sort_values(ascending=True)):\n",
    "    ax.text(v, i, str(round(v, 2)), color='blue', fontweight='bold')\n",
    "\n",
    "plt.xlabel('Coefficient')\n",
    "plt.ylabel('Feature')\n",
    "plt.title('Top 5 Features')\n"
   ]
  },
  {
   "cell_type": "markdown",
   "metadata": {},
   "source": [
    "### 1.3"
   ]
  },
  {
   "cell_type": "code",
   "execution_count": 13,
   "metadata": {},
   "outputs": [
    {
     "data": {
      "text/html": [
       "<div>\n",
       "<style scoped>\n",
       "    .dataframe tbody tr th:only-of-type {\n",
       "        vertical-align: middle;\n",
       "    }\n",
       "\n",
       "    .dataframe tbody tr th {\n",
       "        vertical-align: top;\n",
       "    }\n",
       "\n",
       "    .dataframe thead th {\n",
       "        text-align: right;\n",
       "    }\n",
       "</style>\n",
       "<table border=\"1\" class=\"dataframe\">\n",
       "  <thead>\n",
       "    <tr style=\"text-align: right;\">\n",
       "      <th></th>\n",
       "      <th>coefficients</th>\n",
       "      <th>costs</th>\n",
       "      <th>Iportance vs Costs</th>\n",
       "    </tr>\n",
       "  </thead>\n",
       "  <tbody>\n",
       "    <tr>\n",
       "      <th>Thisnext</th>\n",
       "      <td>1.994464</td>\n",
       "      <td>201.9</td>\n",
       "      <td>0.009878</td>\n",
       "    </tr>\n",
       "    <tr>\n",
       "      <th>Livejournal</th>\n",
       "      <td>1.831178</td>\n",
       "      <td>1601.5</td>\n",
       "      <td>0.001143</td>\n",
       "    </tr>\n",
       "    <tr>\n",
       "      <th>Wordpress</th>\n",
       "      <td>2.205160</td>\n",
       "      <td>2176.9</td>\n",
       "      <td>0.001013</td>\n",
       "    </tr>\n",
       "    <tr>\n",
       "      <th>Cnet</th>\n",
       "      <td>1.805513</td>\n",
       "      <td>1950.4</td>\n",
       "      <td>0.000926</td>\n",
       "    </tr>\n",
       "    <tr>\n",
       "      <th>Blogger</th>\n",
       "      <td>1.784523</td>\n",
       "      <td>2822.9</td>\n",
       "      <td>0.000632</td>\n",
       "    </tr>\n",
       "  </tbody>\n",
       "</table>\n",
       "</div>"
      ],
      "text/plain": [
       "             coefficients   costs  Iportance vs Costs\n",
       "Thisnext         1.994464   201.9            0.009878\n",
       "Livejournal      1.831178  1601.5            0.001143\n",
       "Wordpress        2.205160  2176.9            0.001013\n",
       "Cnet             1.805513  1950.4            0.000926\n",
       "Blogger          1.784523  2822.9            0.000632"
      ]
     },
     "execution_count": 13,
     "metadata": {},
     "output_type": "execute_result"
    }
   ],
   "source": [
    "#costs per channel\n",
    "#mean not necessary as each channel was used for each ad, thus you would always divide by same number\n",
    "costs = X*0.1\n",
    "\n",
    "sum_cost = costs.sum().round(4)\n",
    "sum_cost = pd.DataFrame(sum_cost)\n",
    "sum_cost.rename(columns={0: \"costs\"}, inplace=True)\n",
    "\n",
    "#join costs with top feature df from 1.2\n",
    "joined_df = top_features.join(sum_cost)\n",
    "joined_df\n",
    "\n",
    "#importance vs cost coefficient\n",
    "joined_df[\"Iportance vs Costs\"] = joined_df[\"coefficients\"] / joined_df[\"costs\"]\n",
    "joined_df\n",
    "joined_df = joined_df.sort_values(by='Iportance vs Costs', ascending=False)\n",
    "joined_df\n",
    "\n",
    "#Thisnext and Livejournal are recommendet to used based on importance and costs.\n"
   ]
  }
 ],
 "metadata": {
  "kernelspec": {
   "display_name": "Python 3",
   "language": "python",
   "name": "python3"
  },
  "language_info": {
   "codemirror_mode": {
    "name": "ipython",
    "version": 3
   },
   "file_extension": ".py",
   "mimetype": "text/x-python",
   "name": "python",
   "nbconvert_exporter": "python",
   "pygments_lexer": "ipython3",
   "version": "3.8.3"
  }
 },
 "nbformat": 4,
 "nbformat_minor": 2
}
