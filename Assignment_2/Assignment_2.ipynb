{
 "cells": [
  {
   "cell_type": "markdown",
   "metadata": {},
   "source": []
  },
  {
   "cell_type": "markdown",
   "metadata": {},
   "source": [
    "# Assignment 2"
   ]
  },
  {
   "cell_type": "markdown",
   "metadata": {},
   "source": [
    "## Question 1"
   ]
  },
  {
   "cell_type": "code",
   "execution_count": 72,
   "metadata": {},
   "outputs": [],
   "source": [
    "import pandas as pd\n",
    "import numpy as np\n",
    "\n",
    "import warnings\n",
    "warnings.filterwarnings(\"ignore\", category=FutureWarning)\n",
    "\n",
    "from sklearn import metrics\n",
    "from sklearn.svm import SVC\n",
    "from sklearn.model_selection import RandomizedSearchCV, GridSearchCV, train_test_split, cross_validate\n",
    "from sklearn.metrics import confusion_matrix, accuracy_score, classification_report\n",
    "import matplotlib.pyplot as plt\n",
    "import seaborn as sns\n",
    "from sklearn.ensemble import RandomForestClassifier"
   ]
  },
  {
   "cell_type": "code",
   "execution_count": 161,
   "metadata": {},
   "outputs": [],
   "source": [
    "data = pd.read_csv(\"/Users/jonathan/Library/Mobile Documents/com~apple~CloudDocs/Master/2_Semester/ML/Assignments/machine_learning/Assignment_2/data.csv\")\n",
    "\n",
    "#drop Diigo as column has bad data quality, contains \"Error: value not found\" several timey\n",
    "data.drop('Diigo', axis=1, inplace=True)\n"
   ]
  },
  {
   "cell_type": "code",
   "execution_count": 165,
   "metadata": {},
   "outputs": [],
   "source": [
    "# Create a boolean mask for values above 1000 (excluding the first column)\n",
    "mask = (data.iloc[:, 1:] > 1000).any(axis=1)\n",
    "\n",
    "# Use the boolean mask to filter row\n",
    "data = data.drop(data[mask].index)"
   ]
  },
  {
   "cell_type": "code",
   "execution_count": 167,
   "metadata": {},
   "outputs": [
    {
     "name": "stdout",
     "output_type": "stream",
     "text": [
      "X - Training Data Shape: (7999, 80)\n",
      "X - Testing Data Shape: (2000, 80)\n"
     ]
    }
   ],
   "source": [
    "#split the data\n",
    "#drop Diigo as column has bad data quality, contains \"Error: value not found\" several timey\n",
    "X = data.drop(['Unnamed: 0','Click'], axis=1)\n",
    "Y = data['Click']\n",
    "X_train, X_test, y_train, y_test = train_test_split(X, Y, test_size=0.2, random_state = 42)\n",
    "\n",
    "print(\"X - Training Data Shape:\", X_train.shape)\n",
    "print(\"X - Testing Data Shape:\", X_test.shape)"
   ]
  },
  {
   "cell_type": "markdown",
   "metadata": {},
   "source": [
    "### 1.1 Support Vector Machine"
   ]
  },
  {
   "cell_type": "code",
   "execution_count": 186,
   "metadata": {},
   "outputs": [
    {
     "name": "stdout",
     "output_type": "stream",
     "text": [
      "accuracy_score: 0.959 \n",
      "\n",
      "Classifiaction Report:\n",
      "               precision    recall  f1-score   support\n",
      "\n",
      "           0       0.96      1.00      0.98      1704\n",
      "           1       0.97      0.75      0.84       296\n",
      "\n",
      "    accuracy                           0.96      2000\n",
      "   macro avg       0.96      0.87      0.91      2000\n",
      "weighted avg       0.96      0.96      0.96      2000\n",
      "\n",
      "Cross validation train_score 0.9663082561728394\n",
      "Cross validation test_score [0.959375   0.965625   0.9575     0.96625    0.96247655]\n",
      "\n",
      "Confusion Matrix\n",
      "\n"
     ]
    },
    {
     "data": {
      "image/png": "[encoded data removed]",
      "text/plain": [
       "<Figure size 640x480 with 1 Axes>"
      ]
     },
     "metadata": {},
     "output_type": "display_data"
    }
   ],
   "source": [
    "import warnings\n",
    "warnings.filterwarnings(\"ignore\", category=FutureWarning)\n",
    "\n",
    "svc = SVC(kernel='linear',class_weight='balanced',random_state=42)\n",
    "\n",
    "svc.fit(X_train, y_train)\n",
    "svc_pred = svc.predict(X_test)\n",
    "\n",
    "#Accuracy Score\n",
    "print('accuracy_score:',accuracy_score(svc_pred, y_test),\"\\n\")\n",
    "\n",
    "#Calssifiaction Report\n",
    "print(\"Classifiaction Report:\\n\",classification_report(svc_pred, y_test))\n",
    "\n",
    "#Cross Validation\n",
    "cross_val_score_svc = cross_validate(svc, X_train, y_train,cv = 5,return_train_score=True)\n",
    "print('Cross validation train_score',cross_val_score_svc['train_score'].mean())\n",
    "print('Cross validation test_score',cross_val_score_svc['test_score'])\n",
    "\n",
    "#heatmap confusion matrix\n",
    "print(\"\\nConfusion Matrix\\n\")\n",
    "mat = confusion_matrix(svc_pred,y_test)\n",
    "sns.heatmap(mat.T, square=True, annot=True, fmt='d', cbar=False)\n",
    "plt.xlabel('true label')\n",
    "plt.ylabel('predicted label');"
   ]
  },
  {
   "cell_type": "markdown",
   "metadata": {},
   "source": [
    "### 1.1 Random Forest"
   ]
  },
  {
   "cell_type": "code",
   "execution_count": 173,
   "metadata": {},
   "outputs": [
    {
     "name": "stdout",
     "output_type": "stream",
     "text": [
      "              precision    recall  f1-score   support\n",
      "\n",
      "           0       1.00      0.89      0.94      1994\n",
      "           1       0.03      1.00      0.05         6\n",
      "\n",
      "    accuracy                           0.89      2000\n",
      "   macro avg       0.51      0.94      0.50      2000\n",
      "weighted avg       1.00      0.89      0.94      2000\n",
      "\n"
     ]
    },
    {
     "data": {
      "text/plain": [
       "<Axes: >"
      ]
     },
     "execution_count": 173,
     "metadata": {},
     "output_type": "execute_result"
    },
    {
     "data": {
      "image/png": "[encoded data removed]",
      "text/plain": [
       "<Figure size 640x480 with 1 Axes>"
      ]
     },
     "metadata": {},
     "output_type": "display_data"
    }
   ],
   "source": [
    "model = RandomForestClassifier(random_state=42)\n",
    "model.fit(X_train, y_train)\n",
    "ypred = model.predict(X_test)\n",
    "\n",
    "#Print classification report for this classifier:\n",
    "print(metrics.classification_report(ypred, y_test))\n",
    "\n",
    "#confusion matrix as heatmap\n",
    "mat = confusion_matrix(y_test, ypred)\n",
    "sns.heatmap(mat.T, square=True, annot=True, fmt='d', cbar=False)\n"
   ]
  },
  {
   "cell_type": "markdown",
   "metadata": {},
   "source": [
    "### 1.2 Feature Importance"
   ]
  },
  {
   "cell_type": "code",
   "execution_count": 218,
   "metadata": {},
   "outputs": [
    {
     "data": {
      "text/plain": [
       "Text(0.5, 1.0, 'Top 5 Features')"
      ]
     },
     "execution_count": 218,
     "metadata": {},
     "output_type": "execute_result"
    },
    {
     "data": {
      "image/png": "[encoded data removed]",
      "text/plain": [
       "<Figure size 640x480 with 1 Axes>"
      ]
     },
     "metadata": {},
     "output_type": "display_data"
    }
   ],
   "source": [
    "# get top 5 features\n",
    "top_features = pd.DataFrame(abs(svm.coef_[0]), index=X.columns, columns=[\"coefficients\"]).nlargest(5, \"coefficients\").sort_values(\"coefficients\", ascending=True)\n",
    "\n",
    "# Plot the top features\n",
    "ax = top_features.plot(kind='barh')\n",
    "\n",
    "# Add coefficient values to the plot\n",
    "for i, v in enumerate(pd.Series(abs(svm.coef_[0]), index=X.columns).nlargest(5).sort_values(ascending=True)):\n",
    "    ax.text(v, i, str(round(v, 2)), color='blue', fontweight='bold')\n",
    "\n",
    "plt.xlabel('Coefficient')\n",
    "plt.ylabel('Feature')\n",
    "plt.title('Top 5 Features')\n"
   ]
  },
  {
   "cell_type": "markdown",
   "metadata": {},
   "source": [
    "### 1.3"
   ]
  },
  {
   "cell_type": "code",
   "execution_count": 237,
   "metadata": {},
   "outputs": [
    {
     "data": {
      "text/html": [
       "<div>\n",
       "<style scoped>\n",
       "    .dataframe tbody tr th:only-of-type {\n",
       "        vertical-align: middle;\n",
       "    }\n",
       "\n",
       "    .dataframe tbody tr th {\n",
       "        vertical-align: top;\n",
       "    }\n",
       "\n",
       "    .dataframe thead th {\n",
       "        text-align: right;\n",
       "    }\n",
       "</style>\n",
       "<table border=\"1\" class=\"dataframe\">\n",
       "  <thead>\n",
       "    <tr style=\"text-align: right;\">\n",
       "      <th></th>\n",
       "      <th>coefficients</th>\n",
       "      <th>costs</th>\n",
       "      <th>Iportance vs Costs</th>\n",
       "    </tr>\n",
       "  </thead>\n",
       "  <tbody>\n",
       "    <tr>\n",
       "      <th>Lithium</th>\n",
       "      <td>1.962043</td>\n",
       "      <td>18.9</td>\n",
       "      <td>0.103812</td>\n",
       "    </tr>\n",
       "    <tr>\n",
       "      <th>Kickapps</th>\n",
       "      <td>2.037108</td>\n",
       "      <td>44.2</td>\n",
       "      <td>0.046088</td>\n",
       "    </tr>\n",
       "    <tr>\n",
       "      <th>Thisnext</th>\n",
       "      <td>3.605992</td>\n",
       "      <td>201.9</td>\n",
       "      <td>0.017860</td>\n",
       "    </tr>\n",
       "    <tr>\n",
       "      <th>Kaboodle</th>\n",
       "      <td>1.991884</td>\n",
       "      <td>274.6</td>\n",
       "      <td>0.007254</td>\n",
       "    </tr>\n",
       "    <tr>\n",
       "      <th>Mybloglog</th>\n",
       "      <td>2.093864</td>\n",
       "      <td>302.9</td>\n",
       "      <td>0.006913</td>\n",
       "    </tr>\n",
       "  </tbody>\n",
       "</table>\n",
       "</div>"
      ],
      "text/plain": [
       "           coefficients  costs  Iportance vs Costs\n",
       "Lithium        1.962043   18.9            0.103812\n",
       "Kickapps       2.037108   44.2            0.046088\n",
       "Thisnext       3.605992  201.9            0.017860\n",
       "Kaboodle       1.991884  274.6            0.007254\n",
       "Mybloglog      2.093864  302.9            0.006913"
      ]
     },
     "execution_count": 237,
     "metadata": {},
     "output_type": "execute_result"
    }
   ],
   "source": [
    "#costs per channel\n",
    "#mean not necessary as each channel was used for each ad, thus you would always divide by same number\n",
    "costs = X*0.1\n",
    "\n",
    "sum_cost = costs.sum().round(4)\n",
    "sum_cost = pd.DataFrame(sum_cost)\n",
    "sum_cost.rename(columns={0: \"costs\"}, inplace=True)\n",
    "\n",
    "#join costs with top feature df from 1.2\n",
    "joined_df = top_features.join(sum_cost)\n",
    "joined_df\n",
    "\n",
    "#importance vs cost coefficient\n",
    "joined_df[\"Iportance vs Costs\"] = joined_df[\"coefficients\"] / joined_df[\"costs\"]\n",
    "joined_df\n",
    "joined_df = joined_df.sort_values(by='Iportance vs Costs', ascending=False)\n",
    "joined_df\n",
    "\n",
    "#Lithium and Kickapps are recommendet to used based on importance and costs\n"
   ]
  }
 ],
 "metadata": {
  "kernelspec": {
   "display_name": "Python 3",
   "language": "python",
   "name": "python3"
  },
  "language_info": {
   "codemirror_mode": {
    "name": "ipython",
    "version": 3
   },
   "file_extension": ".py",
   "mimetype": "text/x-python",
   "name": "python",
   "nbconvert_exporter": "python",
   "pygments_lexer": "ipython3",
   "version": "3.10.0"
  }
 },
 "nbformat": 4,
 "nbformat_minor": 2
}
